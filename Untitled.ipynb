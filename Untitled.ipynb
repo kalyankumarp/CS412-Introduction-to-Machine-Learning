{
 "cells": [
  {
   "cell_type": "code",
   "execution_count": 1,
   "metadata": {},
   "outputs": [],
   "source": [
    "import pandas as pd\n",
    "import numpy as np\n",
    "from sklearn.svm import SVC\n",
    "import matplotlib.pyplot as mp"
   ]
  },
  {
   "cell_type": "code",
   "execution_count": 2,
   "metadata": {},
   "outputs": [],
   "source": [
    "x = np.asarray([[1,0],[1.5,0], [2,0], [1,1], [2,1], [0,3],[1,3], [2,3], [1.5,2]])\n",
    "y =np.asarray([1,1,1,1,1,0,0,0,0])\n",
    "colors =[]\n",
    "for i in y:\n",
    "    if(i==1):\n",
    "        colors.append(\"b\")\n",
    "    else:\n",
    "        colors.append(\"r\")"
   ]
  },
  {
   "cell_type": "code",
   "execution_count": 3,
   "metadata": {},
   "outputs": [],
   "source": [
    "data = pd.DataFrame(data= x, columns=['X1','X2'])\n",
    "labels = pd.Series(data=y)"
   ]
  },
  {
   "cell_type": "code",
   "execution_count": 14,
   "metadata": {},
   "outputs": [
    {
     "data": {
      "text/plain": [
       "array([[0. , 3. ],\n",
       "       [1. , 3. ],\n",
       "       [2. , 3. ],\n",
       "       [1.5, 2. ],\n",
       "       [1. , 0. ],\n",
       "       [1.5, 0. ],\n",
       "       [1. , 1. ],\n",
       "       [2. , 1. ]])"
      ]
     },
     "execution_count": 14,
     "metadata": {},
     "output_type": "execute_result"
    }
   ],
   "source": [
    "model = SVC(C=0.1, kernel = 'linear' )\n",
    "model.fit(x,y)\n",
    "model.support_vectors_"
   ]
  },
  {
   "cell_type": "code",
   "execution_count": 15,
   "metadata": {},
   "outputs": [
    {
     "data": {
      "text/plain": [
       "array([0.99965746])"
      ]
     },
     "execution_count": 15,
     "metadata": {},
     "output_type": "execute_result"
    }
   ],
   "source": [
    "model.intercept_"
   ]
  },
  {
   "cell_type": "code",
   "execution_count": 16,
   "metadata": {},
   "outputs": [],
   "source": [
    "pred = model.predict([[0,0]])"
   ]
  },
  {
   "cell_type": "code",
   "execution_count": 17,
   "metadata": {},
   "outputs": [
    {
     "data": {
      "text/plain": [
       "True"
      ]
     },
     "execution_count": 17,
     "metadata": {},
     "output_type": "execute_result"
    }
   ],
   "source": [
    "bool(pred==1)"
   ]
  },
  {
   "cell_type": "code",
   "execution_count": 18,
   "metadata": {},
   "outputs": [
    {
     "data": {
      "text/plain": [
       "<matplotlib.collections.PathCollection at 0x15b1a59f6a0>"
      ]
     },
     "execution_count": 18,
     "metadata": {},
     "output_type": "execute_result"
    },
    {
     "data": {
      "image/png": "[encoded data removed]",
      "text/plain": [
       "<Figure size 432x288 with 1 Axes>"
      ]
     },
     "metadata": {
      "needs_background": "light"
     },
     "output_type": "display_data"
    }
   ],
   "source": [
    "# Lists to hold inpoints, predictions and assigned colors\n",
    "xPred = []\n",
    "yPred = []\n",
    "cPred = []\n",
    "# Use input points to get predictions here\n",
    "for xP in range(0,16):\n",
    "    xP = xP/4.0\n",
    "    \n",
    "    for yP in range(0,16):\n",
    "        yP = yP/4.0\n",
    "        \n",
    "        xPred.append(xP)\n",
    "        yPred.append(yP)\n",
    "        if(model.predict([[xP,yP]])==1):\n",
    "            cPred.append(\"b\")\n",
    "        else:\n",
    "            cPred.append(\"r\")\n",
    "\n",
    "## Visualize Results\n",
    "#plot the points\n",
    "mp.scatter(x[:,0],x[:,1],s=3,c=colors)\n",
    "\n",
    "#plot the regions\n",
    "mp.scatter(xPred,yPred,s=3,c=cPred,alpha=0.1)"
   ]
  },
  {
   "cell_type": "code",
   "execution_count": null,
   "metadata": {},
   "outputs": [],
   "source": []
  },
  {
   "cell_type": "code",
   "execution_count": null,
   "metadata": {},
   "outputs": [],
   "source": []
  }
 ],
 "metadata": {
  "kernelspec": {
   "display_name": "Python 3",
   "language": "python",
   "name": "python3"
  },
  "language_info": {
   "codemirror_mode": {
    "name": "ipython",
    "version": 3
   },
   "file_extension": ".py",
   "mimetype": "text/x-python",
   "name": "python",
   "nbconvert_exporter": "python",
   "pygments_lexer": "ipython3",
   "version": "3.7.3"
  }
 },
 "nbformat": 4,
 "nbformat_minor": 4
}
