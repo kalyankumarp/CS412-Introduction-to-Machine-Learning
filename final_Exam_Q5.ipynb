{
 "cells": [
  {
   "cell_type": "code",
   "execution_count": 108,
   "metadata": {},
   "outputs": [],
   "source": [
    "# Import required packages here (after they are installed)\n",
    "import numpy as np\n",
    "import pandas as pd\n",
    "import matplotlib.pyplot as mp\n",
    "from pylab import show\n",
    "from sklearn.model_selection import cross_val_score\n",
    "from sklearn.model_selection import cross_validate\n",
    "from sklearn.neural_network import MLPClassifier\n",
    "import time\n",
    "import math"
   ]
  },
  {
   "cell_type": "code",
   "execution_count": 63,
   "metadata": {},
   "outputs": [
    {
     "name": "stdout",
     "output_type": "stream",
     "text": [
      "[[ 0.266074  0.109171  0.207175 ...  0.465775 -0.154186  1.867521]\n",
      " [ 0.266074  0.415367  0.089814 ... -0.586191  0.251173 -0.873779]\n",
      " [ 2.105308 -0.079257  0.239183 ... -2.179147 -1.463808  0.41348 ]\n",
      " ...\n",
      " [ 0.204355  0.360409  0.139604 ... -0.10331   2.808053 -1.910991]\n",
      " [-0.412837 -0.707352  0.356544 ...  1.560843  0.968347  0.192678]\n",
      " [ 0.006853 -0.055704  0.335206 ...  1.169234  0.469443  0.06974 ]]\n",
      "[0. 1. 1. 1. 1. 1. 1. 1. 1. 0. 1. 1. 1. 1. 0. 1. 1. 1. 1. 1. 0. 1. 0. 1.\n",
      " 1. 1. 0. 0. 1. 1. 0. 0. 0. 1. 1. 0. 0. 1. 1. 1. 0. 1. 1. 1. 1. 1. 1. 1.\n",
      " 1. 1. 1. 0. 1. 1. 0. 1. 1. 1. 1. 0. 0. 0. 1. 1. 1. 1. 1. 1. 1. 1. 1. 1.\n",
      " 1. 0. 1. 1. 1. 1. 1. 1. 0. 0. 1. 1. 0. 0. 1. 0. 0. 1. 1. 1. 1. 0. 1. 0.\n",
      " 0. 1. 1. 1. 0. 0. 1. 0. 0. 1. 1. 1. 1. 1. 1. 0. 1. 1. 1. 1. 0. 1. 0. 1.\n",
      " 1. 0. 0. 0. 0. 1. 0. 1. 1. 1. 0. 0. 0. 0. 1. 1. 1. 1. 0. 0. 1. 0. 0. 1.\n",
      " 0. 0. 1. 1. 1. 0. 0. 0. 1. 0. 1. 0. 0. 0. 0. 0. 0. 1. 0. 1. 0. 1. 0. 1.\n",
      " 1. 1. 1. 1. 1. 0. 1. 1. 0. 0. 1. 1. 0. 1. 1. 1. 0. 1. 0. 1. 1. 1. 1. 1.\n",
      " 0. 1. 0. 1. 0. 1. 0. 1. 0. 0. 1. 0. 0. 1. 1. 1. 1. 1. 1. 0. 1. 1. 1. 0.\n",
      " 1. 1. 1. 1. 1. 0. 0. 1. 0. 0. 1. 1. 1. 1. 0. 1. 0. 0. 1. 0. 1. 1. 0. 0.\n",
      " 0. 1. 1. 1. 1. 0. 1. 1. 0. 0. 0. 0. 0. 1. 0. 1. 0. 1. 1. 1. 0. 1. 1. 1.\n",
      " 0. 0. 0. 0. 0. 1. 1. 1. 1. 1. 1. 0. 0. 1. 0. 0. 0. 1. 0. 0. 1. 1. 1. 0.\n",
      " 0. 0. 1. 1. 1. 1. 1. 1. 1. 1. 0. 0. 1. 1. 1. 1. 1. 1. 1. 1. 1. 1. 1. 0.\n",
      " 0. 1. 0. 1. 1. 1. 1. 0. 0. 0. 1. 1. 1. 1. 1. 0. 0. 1. 1. 1. 1. 0. 1. 0.\n",
      " 0. 0. 1. 1. 0. 1. 1. 0. 0. 0. 0. 1. 0. 1. 1. 1. 0. 0. 1. 0. 1. 1. 1. 1.\n",
      " 0. 0. 1. 1. 1. 1. 1. 0. 0. 0. 1. 0. 1. 1. 1. 0. 1. 1. 0. 0. 0. 1. 0. 1.\n",
      " 1. 1. 1. 1. 1. 0. 0. 1. 0. 0. 1. 0. 0. 1. 0. 1. 1. 0. 0. 1. 1. 1. 0. 0.\n",
      " 1. 1. 0. 1. 1. 1. 0. 0. 0. 1. 0. 1. 1. 1. 0. 1. 0. 1. 0. 0. 1. 1. 1. 1.\n",
      " 0. 0. 0. 0. 0. 1. 1. 1. 1. 1. 1. 1. 0. 1. 0. 1. 0. 1. 0. 1. 1. 1. 1. 0.\n",
      " 0. 1. 0. 1. 0. 0. 1. 1. 0. 1. 1. 1. 0. 1. 1. 1. 0. 0. 0. 1. 1. 0. 0. 1.\n",
      " 0. 0. 1. 0. 1. 0. 0. 1. 1. 0. 1. 1. 0. 1. 1. 1. 1. 1. 1. 1. 1. 1. 1. 0.\n",
      " 1. 1. 0. 0. 1. 0. 0. 1. 1. 0. 1. 1. 1. 1. 1. 1. 1. 1. 1. 0. 0. 0. 1. 0.\n",
      " 0. 0. 1. 1. 1. 1. 1. 1. 0. 1. 0. 0. 1. 1. 0. 0. 1. 0. 1. 1. 1. 1. 1. 0.\n",
      " 1. 1. 0. 0. 1. 0. 0. 1. 1. 1. 1. 1. 1. 1. 1. 1. 0. 1. 1. 0. 1. 0. 1. 0.\n",
      " 1. 0. 1. 1. 1. 1. 1. 1. 0. 1. 1. 0. 0. 1. 1. 1. 1. 1. 0. 1. 1. 1. 0. 1.\n",
      " 1. 1. 0. 1. 1. 0. 0. 1. 1. 0. 1. 1. 1. 1. 1. 1. 0. 0. 0. 0. 0. 1. 0. 1.\n",
      " 1. 0. 1. 1. 1. 0. 1. 0. 0. 0. 1. 1. 1. 1. 1. 1. 1. 1. 0. 1. 0. 0. 1. 0.\n",
      " 1. 1. 1. 1. 1. 0. 0. 1. 1. 0. 1. 1. 0. 0. 1. 0. 0. 1. 0. 1. 0. 0. 1. 1.\n",
      " 1. 1. 0. 0. 1. 1. 1. 0. 1. 0. 1. 1. 0. 1. 0. 0. 1. 1. 0. 1. 1. 1. 0. 1.\n",
      " 0. 1. 1. 1. 1. 1. 1. 1. 0. 0. 1. 1. 1. 0. 0. 1. 1. 1. 1. 0. 1. 0. 0. 1.\n",
      " 1. 1. 1. 0. 0. 1. 1. 1. 0. 0. 0. 0. 1. 1. 1. 1. 0. 1. 0. 1. 1. 0. 1. 0.\n",
      " 1. 1. 1. 1. 1. 0. 1. 1. 1. 0. 1. 0. 0. 0. 1. 0. 1. 0. 0. 1. 1. 0. 1. 1.\n",
      " 1. 0. 1. 1. 0. 0. 1. 0. 1. 0. 0. 1. 1. 1. 0. 1. 1. 1. 0. 0. 1. 1. 1. 1.\n",
      " 1. 1. 1. 1. 0. 0. 1. 1. 1. 1. 1. 1. 1. 0. 1. 1. 1. 1. 1. 1. 1. 0. 0. 1.\n",
      " 0. 1. 1. 1. 1. 1. 1. 1. 1. 0. 1. 0. 0. 1. 1. 1. 0. 0. 1. 1. 0. 0. 1. 1.\n",
      " 1. 1. 1. 1. 1. 1. 0. 1. 1. 0. 1. 1. 1. 1. 0. 1. 1. 0. 1. 1. 1. 1. 1. 1.\n",
      " 0. 1. 1. 0. 1. 1. 1. 1. 0. 1. 1. 0. 1. 1. 1. 1. 1. 0. 1. 0. 0. 0. 0. 1.\n",
      " 1. 1. 1. 1. 0. 1. 0. 0. 1. 1. 1. 1. 1. 0. 1. 0. 1. 1. 1. 0. 0. 1. 1. 1.\n",
      " 1. 1. 0. 0. 0. 1. 0. 1. 0. 1. 1. 0. 1. 1. 1. 1. 1. 1. 0. 1. 0. 1. 1. 1.\n",
      " 1. 1. 1. 1. 1. 1. 1. 1. 0. 1. 1. 0. 1. 0. 0. 0. 1. 1. 0. 1. 1. 1. 0. 0.\n",
      " 0. 1. 1. 1. 1. 1. 1. 1. 1. 1. 1. 1. 1. 0. 0. 1. 1. 1. 1. 0. 1. 1. 1. 0.\n",
      " 1. 0. 0. 0. 0. 1. 1. 0. 1. 0. 1. 1. 1. 1. 1. 1.]\n"
     ]
    }
   ],
   "source": [
    "features = np.loadtxt(\"features.csv\")\n",
    "labels = np.loadtxt(\"labels.csv\")\n",
    "print(features)\n",
    "print(labels)"
   ]
  },
  {
   "cell_type": "code",
   "execution_count": 64,
   "metadata": {},
   "outputs": [
    {
     "name": "stdout",
     "output_type": "stream",
     "text": [
      "Number of features: 10\n",
      "Length of features dataset: 1000\n",
      "Length of labels dataset: 1000\n"
     ]
    }
   ],
   "source": [
    "print(\"Number of features:\", len(features[0]))\n",
    "print(\"Length of features dataset:\", len(features))\n",
    "print(\"Length of labels dataset:\", len(labels))"
   ]
  },
  {
   "cell_type": "code",
   "execution_count": 65,
   "metadata": {},
   "outputs": [],
   "source": [
    "#Dividing into train and test sets\n",
    "numTrain = int(len(features)*.8)\n",
    "\n",
    "trainFeatures = features[:numTrain]\n",
    "testFeatures = features[numTrain:]\n",
    "trainLabels = labels[:numTrain]\n",
    "testLabels = labels[numTrain:]"
   ]
  },
  {
   "cell_type": "code",
   "execution_count": 66,
   "metadata": {},
   "outputs": [],
   "source": [
    "layers = [1,2,5,10]\n",
    "nodes = [2,5,10,50,100]"
   ]
  },
  {
   "cell_type": "markdown",
   "metadata": {},
   "source": [
    "### LAYER 1 - RELU"
   ]
  },
  {
   "cell_type": "code",
   "execution_count": 67,
   "metadata": {},
   "outputs": [
    {
     "name": "stdout",
     "output_type": "stream",
     "text": [
      "LAYER-1; NODES-2\n",
      "MLPClassifier(activation='relu', alpha=0, batch_size='auto', beta_1=0.9,\n",
      "              beta_2=0.999, early_stopping=False, epsilon=0.001,\n",
      "              hidden_layer_sizes=2, learning_rate='constant',\n",
      "              learning_rate_init=0.001, max_iter=10000, momentum=0.9,\n",
      "              n_iter_no_change=10, nesterovs_momentum=True, power_t=0.5,\n",
      "              random_state=None, shuffle=True, solver='adam', tol=0.0001,\n",
      "              validation_fraction=0.1, verbose=False, warm_start=False)\n",
      "[0.67901235 0.69135802 0.74074074 0.66666667 0.59259259 0.65822785\n",
      " 0.65822785 0.72151899 0.67088608 0.75949367]\n",
      "Cross validation Mean: 0.6838724800750118\n",
      "Cross validation error: 0.3161275199249882\n",
      "Run Time: 5455.322509765625\n",
      "LAYER-1; NODES-5\n",
      "MLPClassifier(activation='relu', alpha=0, batch_size='auto', beta_1=0.9,\n",
      "              beta_2=0.999, early_stopping=False, epsilon=0.001,\n",
      "              hidden_layer_sizes=5, learning_rate='constant',\n",
      "              learning_rate_init=0.001, max_iter=10000, momentum=0.9,\n",
      "              n_iter_no_change=10, nesterovs_momentum=True, power_t=0.5,\n",
      "              random_state=None, shuffle=True, solver='adam', tol=0.0001,\n",
      "              validation_fraction=0.1, verbose=False, warm_start=False)\n",
      "[0.72839506 0.69135802 0.71604938 0.66666667 0.56790123 0.70886076\n",
      " 0.65822785 0.6835443  0.6835443  0.79746835]\n",
      "Cross validation Mean: 0.6902015939990623\n",
      "Cross validation error: 0.30979840600093767\n",
      "Run Time: 8051.505126953125\n",
      "LAYER-1; NODES-10\n",
      "MLPClassifier(activation='relu', alpha=0, batch_size='auto', beta_1=0.9,\n",
      "              beta_2=0.999, early_stopping=False, epsilon=0.001,\n",
      "              hidden_layer_sizes=10, learning_rate='constant',\n",
      "              learning_rate_init=0.001, max_iter=10000, momentum=0.9,\n",
      "              n_iter_no_change=10, nesterovs_momentum=True, power_t=0.5,\n",
      "              random_state=None, shuffle=True, solver='adam', tol=0.0001,\n",
      "              validation_fraction=0.1, verbose=False, warm_start=False)\n",
      "[0.74074074 0.72839506 0.74074074 0.67901235 0.59259259 0.79746835\n",
      " 0.75949367 0.70886076 0.73417722 0.7721519 ]\n",
      "Cross validation Mean: 0.7253633380215658\n",
      "Cross validation error: 0.27463666197843417\n",
      "Run Time: 21502.52685546875\n",
      "LAYER-1; NODES-50\n",
      "MLPClassifier(activation='relu', alpha=0, batch_size='auto', beta_1=0.9,\n",
      "              beta_2=0.999, early_stopping=False, epsilon=0.001,\n",
      "              hidden_layer_sizes=50, learning_rate='constant',\n",
      "              learning_rate_init=0.001, max_iter=10000, momentum=0.9,\n",
      "              n_iter_no_change=10, nesterovs_momentum=True, power_t=0.5,\n",
      "              random_state=None, shuffle=True, solver='adam', tol=0.0001,\n",
      "              validation_fraction=0.1, verbose=False, warm_start=False)\n",
      "[0.72839506 0.7654321  0.74074074 0.75308642 0.75308642 0.79746835\n",
      " 0.70886076 0.75949367 0.73417722 0.75949367]\n",
      "Cross validation Mean: 0.7500234411626817\n",
      "Cross validation error: 0.24997655883731829\n",
      "Run Time: 61369.9638671875\n",
      "LAYER-1; NODES-100\n",
      "MLPClassifier(activation='relu', alpha=0, batch_size='auto', beta_1=0.9,\n",
      "              beta_2=0.999, early_stopping=False, epsilon=0.001,\n",
      "              hidden_layer_sizes=100, learning_rate='constant',\n",
      "              learning_rate_init=0.001, max_iter=10000, momentum=0.9,\n",
      "              n_iter_no_change=10, nesterovs_momentum=True, power_t=0.5,\n",
      "              random_state=None, shuffle=True, solver='adam', tol=0.0001,\n",
      "              validation_fraction=0.1, verbose=False, warm_start=False)\n",
      "[0.74074074 0.79012346 0.74074074 0.77777778 0.74074074 0.79746835\n",
      " 0.72151899 0.75949367 0.74683544 0.75949367]\n",
      "Cross validation Mean: 0.7574933583372403\n",
      "Cross validation error: 0.2425066416627597\n",
      "Run Time: 99076.61279296875\n"
     ]
    }
   ],
   "source": [
    "cv_scores_1 = []\n",
    "cv_errors_1 = []\n",
    "run_times_1 = []\n",
    "for n in nodes:\n",
    "    start_time = time.time()*1000\n",
    "    #Neural Network Model \n",
    "    print('LAYER-1; NODES-{}'.format(n))\n",
    "    perceptron = MLPClassifier(hidden_layer_sizes=(n), activation='relu', solver='adam', alpha=0, max_iter=10000, epsilon=0.001)\n",
    "    print(perceptron)\n",
    "    \n",
    "    #Cross-validation scores\n",
    "    cv_score = cross_val_score(perceptron, trainFeatures, trainLabels, cv=10)\n",
    "    cv_mean = np.mean(cv_score)\n",
    "    print(cv_score)\n",
    "    cv_scores_1.append(cv_mean)\n",
    "    print(\"Cross validation Mean:\", cv_mean)\n",
    "    \n",
    "    #Cross-validation errors\n",
    "    cv_error = 1-cv_mean\n",
    "    cv_errors_1.append(cv_error)\n",
    "    print('Cross validation error:', cv_error)\n",
    "    end_time = time.time()*1000\n",
    "    runtime = end_time - start_time\n",
    "    run_times_1.append(runtime)\n",
    "    print('Run Time:', runtime)"
   ]
  },
  {
   "cell_type": "markdown",
   "metadata": {},
   "source": [
    "### LAYER 2 - RELU"
   ]
  },
  {
   "cell_type": "code",
   "execution_count": 68,
   "metadata": {},
   "outputs": [
    {
     "name": "stdout",
     "output_type": "stream",
     "text": [
      "LAYER-2; NODES-2\n",
      "MLPClassifier(activation='relu', alpha=0, batch_size='auto', beta_1=0.9,\n",
      "              beta_2=0.999, early_stopping=False, epsilon=0.001,\n",
      "              hidden_layer_sizes=(2, 2), learning_rate='constant',\n",
      "              learning_rate_init=0.001, max_iter=10000, momentum=0.9,\n",
      "              n_iter_no_change=10, nesterovs_momentum=True, power_t=0.5,\n",
      "              random_state=None, shuffle=True, solver='adam', tol=0.0001,\n",
      "              validation_fraction=0.1, verbose=False, warm_start=False)\n",
      "[0.61728395 0.61728395 0.61728395 0.65432099 0.69135802 0.62025316\n",
      " 0.62025316 0.70886076 0.70886076 0.62025316]\n",
      "Cross validation Mean: 0.6476011876855758\n",
      "Cross validation error: 0.35239881231442416\n",
      "Run Time: 6774.08740234375\n",
      "LAYER-2; NODES-5\n",
      "MLPClassifier(activation='relu', alpha=0, batch_size='auto', beta_1=0.9,\n",
      "              beta_2=0.999, early_stopping=False, epsilon=0.001,\n",
      "              hidden_layer_sizes=(5, 5), learning_rate='constant',\n",
      "              learning_rate_init=0.001, max_iter=10000, momentum=0.9,\n",
      "              n_iter_no_change=10, nesterovs_momentum=True, power_t=0.5,\n",
      "              random_state=None, shuffle=True, solver='adam', tol=0.0001,\n",
      "              validation_fraction=0.1, verbose=False, warm_start=False)\n",
      "[0.77777778 0.71604938 0.67901235 0.75308642 0.67901235 0.72151899\n",
      " 0.63291139 0.69620253 0.74683544 0.75949367]\n",
      "Cross validation Mean: 0.7161900296921395\n",
      "Cross validation error: 0.2838099703078605\n",
      "Run Time: 19405.841064453125\n",
      "LAYER-2; NODES-10\n",
      "MLPClassifier(activation='relu', alpha=0, batch_size='auto', beta_1=0.9,\n",
      "              beta_2=0.999, early_stopping=False, epsilon=0.001,\n",
      "              hidden_layer_sizes=(10, 10), learning_rate='constant',\n",
      "              learning_rate_init=0.001, max_iter=10000, momentum=0.9,\n",
      "              n_iter_no_change=10, nesterovs_momentum=True, power_t=0.5,\n",
      "              random_state=None, shuffle=True, solver='adam', tol=0.0001,\n",
      "              validation_fraction=0.1, verbose=False, warm_start=False)\n",
      "[0.7654321  0.71604938 0.74074074 0.71604938 0.75308642 0.81012658\n",
      " 0.72151899 0.78481013 0.69620253 0.72151899]\n",
      "Cross validation Mean: 0.7425535239881231\n",
      "Cross validation error: 0.25744647601187687\n",
      "Run Time: 40178.317138671875\n",
      "LAYER-2; NODES-50\n",
      "MLPClassifier(activation='relu', alpha=0, batch_size='auto', beta_1=0.9,\n",
      "              beta_2=0.999, early_stopping=False, epsilon=0.001,\n",
      "              hidden_layer_sizes=(50, 50), learning_rate='constant',\n",
      "              learning_rate_init=0.001, max_iter=10000, momentum=0.9,\n",
      "              n_iter_no_change=10, nesterovs_momentum=True, power_t=0.5,\n",
      "              random_state=None, shuffle=True, solver='adam', tol=0.0001,\n",
      "              validation_fraction=0.1, verbose=False, warm_start=False)\n",
      "[0.72839506 0.80246914 0.69135802 0.72839506 0.71604938 0.84810127\n",
      " 0.7721519  0.73417722 0.73417722 0.78481013]\n",
      "Cross validation Mean: 0.7540084388185654\n",
      "Cross validation error: 0.24599156118143461\n",
      "Run Time: 63440.600830078125\n",
      "LAYER-2; NODES-100\n",
      "MLPClassifier(activation='relu', alpha=0, batch_size='auto', beta_1=0.9,\n",
      "              beta_2=0.999, early_stopping=False, epsilon=0.001,\n",
      "              hidden_layer_sizes=(100, 100), learning_rate='constant',\n",
      "              learning_rate_init=0.001, max_iter=10000, momentum=0.9,\n",
      "              n_iter_no_change=10, nesterovs_momentum=True, power_t=0.5,\n",
      "              random_state=None, shuffle=True, solver='adam', tol=0.0001,\n",
      "              validation_fraction=0.1, verbose=False, warm_start=False)\n",
      "[0.62962963 0.77777778 0.74074074 0.80246914 0.77777778 0.83544304\n",
      " 0.74683544 0.73417722 0.69620253 0.82278481]\n",
      "Cross validation Mean: 0.7563838099703079\n",
      "Cross validation error: 0.24361619002969215\n",
      "Run Time: 69313.88354492188\n"
     ]
    }
   ],
   "source": [
    "cv_scores_2 = []\n",
    "cv_errors_2 = []\n",
    "run_times_2 = []\n",
    "for n in nodes:\n",
    "    start_time = time.time()*1000\n",
    "    #Neural Network Model \n",
    "    print('LAYER-2; NODES-{}'.format(n))\n",
    "    perceptron = MLPClassifier(hidden_layer_sizes=(n, n), activation='relu', solver='adam', alpha=0, max_iter=10000, epsilon=0.001)\n",
    "    print(perceptron)\n",
    "    \n",
    "    #Cross-validation scores\n",
    "    cv_score = cross_val_score(perceptron, trainFeatures, trainLabels, cv=10)\n",
    "    cv_mean = np.mean(cv_score)\n",
    "    print(cv_score)\n",
    "    cv_scores_2.append(cv_mean)\n",
    "    print(\"Cross validation Mean:\", cv_mean)\n",
    "    \n",
    "    #Cross-validation errors\n",
    "    cv_error = 1-cv_mean\n",
    "    cv_errors_2.append(cv_error)\n",
    "    print('Cross validation error:', cv_error)\n",
    "    end_time = time.time()*1000\n",
    "    runtime = end_time - start_time\n",
    "    run_times_2.append(runtime)\n",
    "    print('Run Time:', runtime)"
   ]
  },
  {
   "cell_type": "markdown",
   "metadata": {},
   "source": [
    "### LAYER 5  - RELU"
   ]
  },
  {
   "cell_type": "code",
   "execution_count": 69,
   "metadata": {},
   "outputs": [
    {
     "name": "stdout",
     "output_type": "stream",
     "text": [
      "LAYER-5; NODES-2\n",
      "MLPClassifier(activation='relu', alpha=0, batch_size='auto', beta_1=0.9,\n",
      "              beta_2=0.999, early_stopping=False, epsilon=0.001,\n",
      "              hidden_layer_sizes=(2, 2, 2, 2, 2), learning_rate='constant',\n",
      "              learning_rate_init=0.001, max_iter=10000, momentum=0.9,\n",
      "              n_iter_no_change=10, nesterovs_momentum=True, power_t=0.5,\n",
      "              random_state=None, shuffle=True, solver='adam', tol=0.0001,\n",
      "              validation_fraction=0.1, verbose=False, warm_start=False)\n",
      "[0.61728395 0.61728395 0.61728395 0.61728395 0.61728395 0.62025316\n",
      " 0.62025316 0.62025316 0.62025316 0.63291139]\n",
      "Cross validation Mean: 0.620034380371933\n",
      "Cross validation error: 0.37996561962806696\n",
      "Run Time: 6723.991943359375\n",
      "LAYER-5; NODES-5\n",
      "MLPClassifier(activation='relu', alpha=0, batch_size='auto', beta_1=0.9,\n",
      "              beta_2=0.999, early_stopping=False, epsilon=0.001,\n",
      "              hidden_layer_sizes=(5, 5, 5, 5, 5), learning_rate='constant',\n",
      "              learning_rate_init=0.001, max_iter=10000, momentum=0.9,\n",
      "              n_iter_no_change=10, nesterovs_momentum=True, power_t=0.5,\n",
      "              random_state=None, shuffle=True, solver='adam', tol=0.0001,\n",
      "              validation_fraction=0.1, verbose=False, warm_start=False)\n",
      "[0.7037037  0.67901235 0.7037037  0.71604938 0.65432099 0.7721519\n",
      " 0.69620253 0.62025316 0.72151899 0.63291139]\n",
      "Cross validation Mean: 0.6899828098140335\n",
      "Cross validation error: 0.3100171901859665\n",
      "Run Time: 27424.742431640625\n",
      "LAYER-5; NODES-10\n",
      "MLPClassifier(activation='relu', alpha=0, batch_size='auto', beta_1=0.9,\n",
      "              beta_2=0.999, early_stopping=False, epsilon=0.001,\n",
      "              hidden_layer_sizes=(10, 10, 10, 10, 10), learning_rate='constant',\n",
      "              learning_rate_init=0.001, max_iter=10000, momentum=0.9,\n",
      "              n_iter_no_change=10, nesterovs_momentum=True, power_t=0.5,\n",
      "              random_state=None, shuffle=True, solver='adam', tol=0.0001,\n",
      "              validation_fraction=0.1, verbose=False, warm_start=False)\n",
      "[0.61728395 0.72839506 0.72839506 0.75308642 0.67901235 0.74683544\n",
      " 0.65822785 0.65822785 0.65822785 0.64556962]\n",
      "Cross validation Mean: 0.6873261447101109\n",
      "Cross validation error: 0.3126738552898891\n",
      "Run Time: 37909.773193359375\n",
      "LAYER-5; NODES-50\n",
      "MLPClassifier(activation='relu', alpha=0, batch_size='auto', beta_1=0.9,\n",
      "              beta_2=0.999, early_stopping=False, epsilon=0.001,\n",
      "              hidden_layer_sizes=(50, 50, 50, 50, 50), learning_rate='constant',\n",
      "              learning_rate_init=0.001, max_iter=10000, momentum=0.9,\n",
      "              n_iter_no_change=10, nesterovs_momentum=True, power_t=0.5,\n",
      "              random_state=None, shuffle=True, solver='adam', tol=0.0001,\n",
      "              validation_fraction=0.1, verbose=False, warm_start=False)\n",
      "[0.67901235 0.81481481 0.75308642 0.74074074 0.75308642 0.7721519\n",
      " 0.6835443  0.70886076 0.70886076 0.78481013]\n",
      "Cross validation Mean: 0.7398968588842006\n",
      "Cross validation error: 0.26010314111579935\n",
      "Run Time: 26327.572021484375\n",
      "LAYER-5; NODES-100\n",
      "MLPClassifier(activation='relu', alpha=0, batch_size='auto', beta_1=0.9,\n",
      "              beta_2=0.999, early_stopping=False, epsilon=0.001,\n",
      "              hidden_layer_sizes=(100, 100, 100, 100, 100),\n",
      "              learning_rate='constant', learning_rate_init=0.001,\n",
      "              max_iter=10000, momentum=0.9, n_iter_no_change=10,\n",
      "              nesterovs_momentum=True, power_t=0.5, random_state=None,\n",
      "              shuffle=True, solver='adam', tol=0.0001, validation_fraction=0.1,\n",
      "              verbose=False, warm_start=False)\n",
      "[0.67901235 0.82716049 0.79012346 0.72839506 0.66666667 0.82278481\n",
      " 0.74683544 0.72151899 0.74683544 0.79746835]\n",
      "Cross validation Mean: 0.7526801062666041\n",
      "Cross validation error: 0.2473198937333959\n",
      "Run Time: 33477.061767578125\n"
     ]
    }
   ],
   "source": [
    "cv_scores_5 = []\n",
    "cv_errors_5 = []\n",
    "run_times_5 = []\n",
    "for n in nodes:\n",
    "    start_time = time.time()*1000\n",
    "    #Neural Network Model \n",
    "    print('LAYER-5; NODES-{}'.format(n))\n",
    "    perceptron = MLPClassifier(hidden_layer_sizes=(n, n, n, n, n), activation='relu', solver='adam', alpha=0, max_iter=10000, epsilon=0.001)\n",
    "    print(perceptron)\n",
    "    \n",
    "    #Cross-validation scores\n",
    "    cv_score = cross_val_score(perceptron, trainFeatures, trainLabels, cv=10)\n",
    "    cv_mean = np.mean(cv_score)\n",
    "    print(cv_score)\n",
    "    cv_scores_5.append(cv_mean)\n",
    "    print(\"Cross validation Mean:\", cv_mean)\n",
    "    \n",
    "    #Cross-validation errors\n",
    "    cv_error = 1-cv_mean\n",
    "    cv_errors_5.append(cv_error)\n",
    "    print('Cross validation error:', cv_error)\n",
    "    end_time = time.time()*1000\n",
    "    runtime = end_time - start_time\n",
    "    run_times_5.append(runtime)\n",
    "    print('Run Time:', runtime)"
   ]
  },
  {
   "cell_type": "markdown",
   "metadata": {},
   "source": [
    "### LAYER 10 - RELU"
   ]
  },
  {
   "cell_type": "code",
   "execution_count": 70,
   "metadata": {},
   "outputs": [
    {
     "name": "stdout",
     "output_type": "stream",
     "text": [
      "LAYER-10; NODES-2\n",
      "MLPClassifier(activation='relu', alpha=0, batch_size='auto', beta_1=0.9,\n",
      "              beta_2=0.999, early_stopping=False, epsilon=0.001,\n",
      "              hidden_layer_sizes=(2, 2, 2, 2, 2, 2, 2, 2, 2, 2),\n",
      "              learning_rate='constant', learning_rate_init=0.001,\n",
      "              max_iter=10000, momentum=0.9, n_iter_no_change=10,\n",
      "              nesterovs_momentum=True, power_t=0.5, random_state=None,\n",
      "              shuffle=True, solver='adam', tol=0.0001, validation_fraction=0.1,\n",
      "              verbose=False, warm_start=False)\n",
      "[0.61728395 0.61728395 0.61728395 0.61728395 0.61728395 0.62025316\n",
      " 0.62025316 0.62025316 0.62025316 0.62025316]\n",
      "Cross validation Mean: 0.6187685575871229\n",
      "Cross validation error: 0.3812314424128771\n",
      "Run Time: 8314.657470703125\n",
      "LAYER-10; NODES-5\n",
      "MLPClassifier(activation='relu', alpha=0, batch_size='auto', beta_1=0.9,\n",
      "              beta_2=0.999, early_stopping=False, epsilon=0.001,\n",
      "              hidden_layer_sizes=(5, 5, 5, 5, 5, 5, 5, 5, 5, 5),\n",
      "              learning_rate='constant', learning_rate_init=0.001,\n",
      "              max_iter=10000, momentum=0.9, n_iter_no_change=10,\n",
      "              nesterovs_momentum=True, power_t=0.5, random_state=None,\n",
      "              shuffle=True, solver='adam', tol=0.0001, validation_fraction=0.1,\n",
      "              verbose=False, warm_start=False)\n",
      "[0.61728395 0.61728395 0.61728395 0.61728395 0.61728395 0.70886076\n",
      " 0.62025316 0.63291139 0.62025316 0.62025316]\n",
      "Cross validation Mean: 0.6288951398656039\n",
      "Cross validation error: 0.37110486013439614\n",
      "Run Time: 11318.445556640625\n",
      "LAYER-10; NODES-10\n",
      "MLPClassifier(activation='relu', alpha=0, batch_size='auto', beta_1=0.9,\n",
      "              beta_2=0.999, early_stopping=False, epsilon=0.001,\n",
      "              hidden_layer_sizes=(10, 10, 10, 10, 10, 10, 10, 10, 10, 10),\n",
      "              learning_rate='constant', learning_rate_init=0.001,\n",
      "              max_iter=10000, momentum=0.9, n_iter_no_change=10,\n",
      "              nesterovs_momentum=True, power_t=0.5, random_state=None,\n",
      "              shuffle=True, solver='adam', tol=0.0001, validation_fraction=0.1,\n",
      "              verbose=False, warm_start=False)\n",
      "[0.61728395 0.72839506 0.61728395 0.75308642 0.61728395 0.62025316\n",
      " 0.73417722 0.65822785 0.62025316 0.60759494]\n",
      "Cross validation Mean: 0.6573839662447256\n",
      "Cross validation error: 0.3426160337552744\n",
      "Run Time: 18685.777587890625\n",
      "LAYER-10; NODES-50\n",
      "MLPClassifier(activation='relu', alpha=0, batch_size='auto', beta_1=0.9,\n",
      "              beta_2=0.999, early_stopping=False, epsilon=0.001,\n",
      "              hidden_layer_sizes=(50, 50, 50, 50, 50, 50, 50, 50, 50, 50),\n",
      "              learning_rate='constant', learning_rate_init=0.001,\n",
      "              max_iter=10000, momentum=0.9, n_iter_no_change=10,\n",
      "              nesterovs_momentum=True, power_t=0.5, random_state=None,\n",
      "              shuffle=True, solver='adam', tol=0.0001, validation_fraction=0.1,\n",
      "              verbose=False, warm_start=False)\n",
      "[0.7037037  0.75308642 0.71604938 0.7037037  0.7037037  0.79746835\n",
      " 0.65822785 0.69620253 0.7721519  0.72151899]\n",
      "Cross validation Mean: 0.7225816533833412\n",
      "Cross validation error: 0.27741834661665876\n",
      "Run Time: 25716.32861328125\n",
      "LAYER-10; NODES-100\n",
      "MLPClassifier(activation='relu', alpha=0, batch_size='auto', beta_1=0.9,\n",
      "              beta_2=0.999, early_stopping=False, epsilon=0.001,\n",
      "              hidden_layer_sizes=(100, 100, 100, 100, 100, 100, 100, 100, 100,\n",
      "                                  100),\n",
      "              learning_rate='constant', learning_rate_init=0.001,\n",
      "              max_iter=10000, momentum=0.9, n_iter_no_change=10,\n",
      "              nesterovs_momentum=True, power_t=0.5, random_state=None,\n",
      "              shuffle=True, solver='adam', tol=0.0001, validation_fraction=0.1,\n",
      "              verbose=False, warm_start=False)\n",
      "[0.7654321  0.81481481 0.7654321  0.71604938 0.74074074 0.83544304\n",
      " 0.69620253 0.74683544 0.75949367 0.78481013]\n",
      "Cross validation Mean: 0.7625253945929052\n",
      "Cross validation error: 0.23747460540709475\n",
      "Run Time: 39657.4072265625\n"
     ]
    }
   ],
   "source": [
    "cv_scores_10 = []\n",
    "cv_errors_10 = []\n",
    "run_times_10 = []\n",
    "for n in nodes:\n",
    "    start_time = time.time()*1000\n",
    "    #Neural Network Model \n",
    "    print('LAYER-10; NODES-{}'.format(n))\n",
    "    perceptron = MLPClassifier(hidden_layer_sizes=(n, n, n, n, n, n, n, n, n, n), activation='relu', solver='adam', alpha=0, max_iter=10000, epsilon=0.001)\n",
    "    print(perceptron)\n",
    "    \n",
    "    #Cross-validation scores\n",
    "    cv_score = cross_val_score(perceptron, trainFeatures, trainLabels, cv=10)\n",
    "    cv_mean = np.mean(cv_score)\n",
    "    print(cv_score)\n",
    "    cv_scores_10.append(cv_mean)\n",
    "    print(\"Cross validation Mean:\", cv_mean)\n",
    "    \n",
    "    #Cross-validation errors\n",
    "    cv_error = 1-cv_mean\n",
    "    cv_errors_10.append(cv_error)\n",
    "    print('Cross validation error:', cv_error)\n",
    "    end_time = time.time()*1000\n",
    "    runtime = end_time - start_time\n",
    "    run_times_10.append(runtime)\n",
    "    print('Run Time:', runtime)"
   ]
  },
  {
   "cell_type": "code",
   "execution_count": 71,
   "metadata": {},
   "outputs": [
    {
     "data": {
      "image/png": "[encoded data removed]",
      "text/plain": [
       "<Figure size 576x576 with 1 Axes>"
      ]
     },
     "metadata": {
      "needs_background": "light"
     },
     "output_type": "display_data"
    },
    {
     "data": {
      "image/png": "[encoded data removed]",
      "text/plain": [
       "<Figure size 432x288 with 1 Axes>"
      ]
     },
     "metadata": {},
     "output_type": "display_data"
    }
   ],
   "source": [
    "#plot the data points\n",
    "### https://matplotlib.org/api/_as_gen/matplotlib.pyplot.scatter.html\n",
    "fig1 = mp.figure(figsize=(8, 8))\n",
    "\n",
    "mp.scatter(nodes,cv_errors_1,s=25, c='blue')\n",
    "line1 = mp.plot(nodes,cv_errors_1, label='Layer 1', color='blue')\n",
    "\n",
    "mp.scatter(nodes,cv_errors_2,s=25, c='red')\n",
    "line2 = mp.plot(nodes,cv_errors_2, label='Layer 2', color='red')\n",
    "\n",
    "mp.scatter(nodes,cv_errors_5,s=25, c='green')\n",
    "line3 = mp.plot(nodes,cv_errors_5, label='Layer 5', color='green')\n",
    "\n",
    "mp.scatter(nodes,cv_errors_10,s=25, c='yellow')\n",
    "line4 = mp.plot(nodes,cv_errors_10, label='Layer 10', color='yellow')\n",
    "\n",
    "mp.legend(prop={'size': 10})\n",
    "\n",
    "#specify the axes\n",
    "mp.xlabel(\"Node values in Layers\")\n",
    "mp.ylabel(\"CV_Error\")\n",
    "\n",
    "#Labeling the plot\n",
    "#mp.legend(['1'])\n",
    "#mp.legend(legends)\n",
    "fig1.suptitle('Figure - CV Errors - RELU', fontsize=15)\n",
    "\n",
    "\n",
    "#table\n",
    "fig = mp.figure()\n",
    "table_vals = []\n",
    "\n",
    "np_array = np.array(cv_errors_1)\n",
    "np_round_to_tenths = np.around(np_array, 5)\n",
    "round_to_tenths = list(np_round_to_tenths)\n",
    "table_vals.append(round_to_tenths)\n",
    "\n",
    "np_array = np.array(cv_errors_2)\n",
    "np_round_to_tenths = np.around(np_array, 5)\n",
    "round_to_tenths = list(np_round_to_tenths)\n",
    "table_vals.append(round_to_tenths)\n",
    "\n",
    "np_array = np.array(cv_errors_5)\n",
    "np_round_to_tenths = np.around(np_array, 5)\n",
    "round_to_tenths = list(np_round_to_tenths)\n",
    "table_vals.append(round_to_tenths)\n",
    "\n",
    "np_array = np.array(cv_errors_10)\n",
    "np_round_to_tenths = np.around(np_array, 5)\n",
    "round_to_tenths = list(np_round_to_tenths)\n",
    "table_vals.append(round_to_tenths)\n",
    "\n",
    "row_labels = ['1-Hidden Layer', '2-Hidden Layer', '5-Hidden Layer', '10-Hidden Layer']\n",
    "col_labels = ['2-Nodes', '5-Nodes', '10-Nodes', '50-Nodes', '100-Nodes']\n",
    "the_table = mp.table(cellText=table_vals,\n",
    "                      rowLabels=row_labels,\n",
    "                      colLabels=col_labels,\n",
    "                      loc='center')\n",
    "the_table.auto_set_font_size(False)\n",
    "the_table.set_fontsize(14)\n",
    "the_table.scale(2, 2)\n",
    "\n",
    "# Removing ticks and spines enables you to get the figure only with table\n",
    "mp.tick_params(axis='x', which='both', bottom=False, top=False, labelbottom=False)\n",
    "mp.tick_params(axis='y', which='both', right=False, left=False, labelleft=False)\n",
    "for pos in ['right','top','bottom','left']:\n",
    "    mp.gca().spines[pos].set_visible(False)\n",
    "mp.savefig('matplotlib-table.png', bbox_inches='tight', pad_inches=0.05)\n",
    "\n",
    "\n",
    "#display the current graph\n",
    "mp.show()"
   ]
  },
  {
   "cell_type": "markdown",
   "metadata": {},
   "source": [
    "### Best Model 1 - 10 Layers and 100 nodes each"
   ]
  },
  {
   "cell_type": "code",
   "execution_count": 72,
   "metadata": {},
   "outputs": [],
   "source": [
    "model1 = MLPClassifier(hidden_layer_sizes=(100, 100, 100, 100, 100, 100, 100, 100, 100, 100), activation='relu', solver='adam', alpha=0, max_iter=10000, epsilon=0.001)"
   ]
  },
  {
   "cell_type": "code",
   "execution_count": 73,
   "metadata": {},
   "outputs": [
    {
     "name": "stdout",
     "output_type": "stream",
     "text": [
      "[0.74074074 0.77777778 0.74074074 0.72839506 0.67901235 0.78481013\n",
      " 0.6835443  0.7721519  0.7721519  0.73417722]\n",
      "0.7413502109704642\n"
     ]
    }
   ],
   "source": [
    "cv_scores = cross_val_score(model1, trainFeatures, trainLabels, cv=10)\n",
    "print(cv_scores)\n",
    "print(cv_scores.mean())"
   ]
  },
  {
   "cell_type": "markdown",
   "metadata": {},
   "source": [
    "### LAYER 1 - TANH"
   ]
  },
  {
   "cell_type": "code",
   "execution_count": 74,
   "metadata": {},
   "outputs": [
    {
     "name": "stdout",
     "output_type": "stream",
     "text": [
      "LAYER-1; NODES-2\n",
      "MLPClassifier(activation='tanh', alpha=0, batch_size='auto', beta_1=0.9,\n",
      "              beta_2=0.999, early_stopping=False, epsilon=0.001,\n",
      "              hidden_layer_sizes=2, learning_rate='constant',\n",
      "              learning_rate_init=0.001, max_iter=10000, momentum=0.9,\n",
      "              n_iter_no_change=10, nesterovs_momentum=True, power_t=0.5,\n",
      "              random_state=None, shuffle=True, solver='adam', tol=0.0001,\n",
      "              validation_fraction=0.1, verbose=False, warm_start=False)\n",
      "[0.66666667 0.71604938 0.72839506 0.71604938 0.62962963 0.65822785\n",
      " 0.65822785 0.70886076 0.67088608 0.74683544]\n",
      "Cross validation Mean: 0.6899828098140335\n",
      "Cross validation error: 0.3100171901859665\n",
      "Run Time: 3714.303466796875\n",
      "LAYER-1; NODES-5\n",
      "MLPClassifier(activation='tanh', alpha=0, batch_size='auto', beta_1=0.9,\n",
      "              beta_2=0.999, early_stopping=False, epsilon=0.001,\n",
      "              hidden_layer_sizes=5, learning_rate='constant',\n",
      "              learning_rate_init=0.001, max_iter=10000, momentum=0.9,\n",
      "              n_iter_no_change=10, nesterovs_momentum=True, power_t=0.5,\n",
      "              random_state=None, shuffle=True, solver='adam', tol=0.0001,\n",
      "              validation_fraction=0.1, verbose=False, warm_start=False)\n",
      "[0.72839506 0.7037037  0.72839506 0.7037037  0.64197531 0.70886076\n",
      " 0.70886076 0.74683544 0.70886076 0.74683544]\n",
      "Cross validation Mean: 0.7126426004063136\n",
      "Cross validation error: 0.28735739959368645\n",
      "Run Time: 14424.18310546875\n",
      "LAYER-1; NODES-10\n",
      "MLPClassifier(activation='tanh', alpha=0, batch_size='auto', beta_1=0.9,\n",
      "              beta_2=0.999, early_stopping=False, epsilon=0.001,\n",
      "              hidden_layer_sizes=10, learning_rate='constant',\n",
      "              learning_rate_init=0.001, max_iter=10000, momentum=0.9,\n",
      "              n_iter_no_change=10, nesterovs_momentum=True, power_t=0.5,\n",
      "              random_state=None, shuffle=True, solver='adam', tol=0.0001,\n",
      "              validation_fraction=0.1, verbose=False, warm_start=False)\n",
      "[0.74074074 0.77777778 0.75308642 0.67901235 0.7037037  0.78481013\n",
      " 0.72151899 0.70886076 0.75949367 0.78481013]\n",
      "Cross validation Mean: 0.7413814658540396\n",
      "Cross validation error: 0.25861853414596037\n",
      "Run Time: 29877.73583984375\n",
      "LAYER-1; NODES-50\n",
      "MLPClassifier(activation='tanh', alpha=0, batch_size='auto', beta_1=0.9,\n",
      "              beta_2=0.999, early_stopping=False, epsilon=0.001,\n",
      "              hidden_layer_sizes=50, learning_rate='constant',\n",
      "              learning_rate_init=0.001, max_iter=10000, momentum=0.9,\n",
      "              n_iter_no_change=10, nesterovs_momentum=True, power_t=0.5,\n",
      "              random_state=None, shuffle=True, solver='adam', tol=0.0001,\n",
      "              validation_fraction=0.1, verbose=False, warm_start=False)\n",
      "[0.7037037  0.79012346 0.75308642 0.74074074 0.74074074 0.81012658\n",
      " 0.72151899 0.6835443  0.73417722 0.73417722]\n",
      "Cross validation Mean: 0.7411939365525864\n",
      "Cross validation error: 0.25880606344741364\n",
      "Run Time: 77669.34716796875\n",
      "LAYER-1; NODES-100\n",
      "MLPClassifier(activation='tanh', alpha=0, batch_size='auto', beta_1=0.9,\n",
      "              beta_2=0.999, early_stopping=False, epsilon=0.001,\n",
      "              hidden_layer_sizes=100, learning_rate='constant',\n",
      "              learning_rate_init=0.001, max_iter=10000, momentum=0.9,\n",
      "              n_iter_no_change=10, nesterovs_momentum=True, power_t=0.5,\n",
      "              random_state=None, shuffle=True, solver='adam', tol=0.0001,\n",
      "              validation_fraction=0.1, verbose=False, warm_start=False)\n",
      "[0.72839506 0.80246914 0.75308642 0.80246914 0.7654321  0.74683544\n",
      " 0.69620253 0.70886076 0.75949367 0.75949367]\n",
      "Cross validation Mean: 0.752273792780122\n",
      "Cross validation error: 0.24772620721987804\n",
      "Run Time: 93029.87377929688\n"
     ]
    }
   ],
   "source": [
    "cv_scores_1 = []\n",
    "cv_errors_1 = []\n",
    "run_times_1 = []\n",
    "for n in nodes:\n",
    "    start_time = time.time()*1000\n",
    "    #Neural Network Model \n",
    "    print('LAYER-1; NODES-{}'.format(n))\n",
    "    perceptron = MLPClassifier(hidden_layer_sizes=(n), activation='tanh', solver='adam', alpha=0, max_iter=10000, epsilon=0.001)\n",
    "    print(perceptron)\n",
    "    \n",
    "    #Cross-validation scores\n",
    "    cv_score = cross_val_score(perceptron, trainFeatures, trainLabels, cv=10)\n",
    "    cv_mean = np.mean(cv_score)\n",
    "    print(cv_score)\n",
    "    cv_scores_1.append(cv_mean)\n",
    "    print(\"Cross validation Mean:\", cv_mean)\n",
    "    \n",
    "    #Cross-validation errors\n",
    "    cv_error = 1-cv_mean\n",
    "    cv_errors_1.append(cv_error)\n",
    "    print('Cross validation error:', cv_error)\n",
    "    end_time = time.time()*1000\n",
    "    runtime = end_time - start_time\n",
    "    run_times_1.append(runtime)\n",
    "    print('Run Time:', runtime)"
   ]
  },
  {
   "cell_type": "markdown",
   "metadata": {},
   "source": [
    "### LAYER 2 - TANH"
   ]
  },
  {
   "cell_type": "code",
   "execution_count": 75,
   "metadata": {},
   "outputs": [
    {
     "name": "stdout",
     "output_type": "stream",
     "text": [
      "LAYER-2; NODES-2\n",
      "MLPClassifier(activation='tanh', alpha=0, batch_size='auto', beta_1=0.9,\n",
      "              beta_2=0.999, early_stopping=False, epsilon=0.001,\n",
      "              hidden_layer_sizes=(2, 2), learning_rate='constant',\n",
      "              learning_rate_init=0.001, max_iter=10000, momentum=0.9,\n",
      "              n_iter_no_change=10, nesterovs_momentum=True, power_t=0.5,\n",
      "              random_state=None, shuffle=True, solver='adam', tol=0.0001,\n",
      "              validation_fraction=0.1, verbose=False, warm_start=False)\n",
      "[0.72839506 0.67901235 0.74074074 0.69135802 0.67901235 0.6835443\n",
      " 0.67088608 0.75949367 0.69620253 0.7721519 ]\n",
      "Cross validation Mean: 0.7100796999531177\n",
      "Cross validation error: 0.2899203000468823\n",
      "Run Time: 8274.5859375\n",
      "LAYER-2; NODES-5\n",
      "MLPClassifier(activation='tanh', alpha=0, batch_size='auto', beta_1=0.9,\n",
      "              beta_2=0.999, early_stopping=False, epsilon=0.001,\n",
      "              hidden_layer_sizes=(5, 5), learning_rate='constant',\n",
      "              learning_rate_init=0.001, max_iter=10000, momentum=0.9,\n",
      "              n_iter_no_change=10, nesterovs_momentum=True, power_t=0.5,\n",
      "              random_state=None, shuffle=True, solver='adam', tol=0.0001,\n",
      "              validation_fraction=0.1, verbose=False, warm_start=False)\n",
      "[0.7037037  0.72839506 0.65432099 0.67901235 0.77777778 0.78481013\n",
      " 0.70886076 0.70886076 0.72151899 0.83544304]\n",
      "Cross validation Mean: 0.7302703547429286\n",
      "Cross validation error: 0.26972964525707144\n",
      "Run Time: 25060.55322265625\n",
      "LAYER-2; NODES-10\n",
      "MLPClassifier(activation='tanh', alpha=0, batch_size='auto', beta_1=0.9,\n",
      "              beta_2=0.999, early_stopping=False, epsilon=0.001,\n",
      "              hidden_layer_sizes=(10, 10), learning_rate='constant',\n",
      "              learning_rate_init=0.001, max_iter=10000, momentum=0.9,\n",
      "              n_iter_no_change=10, nesterovs_momentum=True, power_t=0.5,\n",
      "              random_state=None, shuffle=True, solver='adam', tol=0.0001,\n",
      "              validation_fraction=0.1, verbose=False, warm_start=False)\n",
      "[0.64197531 0.7654321  0.74074074 0.67901235 0.69135802 0.78481013\n",
      " 0.70886076 0.75949367 0.73417722 0.74683544]\n",
      "Cross validation Mean: 0.7252695733708393\n",
      "Cross validation error: 0.2747304266291607\n",
      "Run Time: 56812.09130859375\n",
      "LAYER-2; NODES-50\n",
      "MLPClassifier(activation='tanh', alpha=0, batch_size='auto', beta_1=0.9,\n",
      "              beta_2=0.999, early_stopping=False, epsilon=0.001,\n",
      "              hidden_layer_sizes=(50, 50), learning_rate='constant',\n",
      "              learning_rate_init=0.001, max_iter=10000, momentum=0.9,\n",
      "              n_iter_no_change=10, nesterovs_momentum=True, power_t=0.5,\n",
      "              random_state=None, shuffle=True, solver='adam', tol=0.0001,\n",
      "              validation_fraction=0.1, verbose=False, warm_start=False)\n",
      "[0.69135802 0.81481481 0.72839506 0.7654321  0.79012346 0.83544304\n",
      " 0.74683544 0.69620253 0.75949367 0.7721519 ]\n",
      "Cross validation Mean: 0.7600250039068605\n",
      "Cross validation error: 0.23997499609313955\n",
      "Run Time: 80299.37426757812\n",
      "LAYER-2; NODES-100\n",
      "MLPClassifier(activation='tanh', alpha=0, batch_size='auto', beta_1=0.9,\n",
      "              beta_2=0.999, early_stopping=False, epsilon=0.001,\n",
      "              hidden_layer_sizes=(100, 100), learning_rate='constant',\n",
      "              learning_rate_init=0.001, max_iter=10000, momentum=0.9,\n",
      "              n_iter_no_change=10, nesterovs_momentum=True, power_t=0.5,\n",
      "              random_state=None, shuffle=True, solver='adam', tol=0.0001,\n",
      "              validation_fraction=0.1, verbose=False, warm_start=False)\n",
      "[0.66666667 0.80246914 0.7037037  0.77777778 0.71604938 0.79746835\n",
      " 0.73417722 0.6835443  0.73417722 0.79746835]\n",
      "Cross validation Mean: 0.7413502109704642\n",
      "Cross validation error: 0.25864978902953584\n",
      "Run Time: 81267.65942382812\n"
     ]
    }
   ],
   "source": [
    "cv_scores_2 = []\n",
    "cv_errors_2 = []\n",
    "run_times_2 = []\n",
    "for n in nodes:\n",
    "    start_time = time.time()*1000\n",
    "    #Neural Network Model \n",
    "    print('LAYER-2; NODES-{}'.format(n))\n",
    "    perceptron = MLPClassifier(hidden_layer_sizes=(n, n), activation='tanh', solver='adam', alpha=0, max_iter=10000, epsilon=0.001)\n",
    "    print(perceptron)\n",
    "    \n",
    "    #Cross-validation scores\n",
    "    cv_score = cross_val_score(perceptron, trainFeatures, trainLabels, cv=10)\n",
    "    cv_mean = np.mean(cv_score)\n",
    "    print(cv_score)\n",
    "    cv_scores_2.append(cv_mean)\n",
    "    print(\"Cross validation Mean:\", cv_mean)\n",
    "    \n",
    "    #Cross-validation errors\n",
    "    cv_error = 1-cv_mean\n",
    "    cv_errors_2.append(cv_error)\n",
    "    print('Cross validation error:', cv_error)\n",
    "    end_time = time.time()*1000\n",
    "    runtime = end_time - start_time\n",
    "    run_times_2.append(runtime)\n",
    "    print('Run Time:', runtime)"
   ]
  },
  {
   "cell_type": "markdown",
   "metadata": {},
   "source": [
    "### LAYER 5 - TANH"
   ]
  },
  {
   "cell_type": "code",
   "execution_count": 76,
   "metadata": {},
   "outputs": [
    {
     "name": "stdout",
     "output_type": "stream",
     "text": [
      "LAYER-5; NODES-2\n",
      "MLPClassifier(activation='tanh', alpha=0, batch_size='auto', beta_1=0.9,\n",
      "              beta_2=0.999, early_stopping=False, epsilon=0.001,\n",
      "              hidden_layer_sizes=(2, 2, 2, 2, 2), learning_rate='constant',\n",
      "              learning_rate_init=0.001, max_iter=10000, momentum=0.9,\n",
      "              n_iter_no_change=10, nesterovs_momentum=True, power_t=0.5,\n",
      "              random_state=None, shuffle=True, solver='adam', tol=0.0001,\n",
      "              validation_fraction=0.1, verbose=False, warm_start=False)\n",
      "[0.71604938 0.61728395 0.61728395 0.61728395 0.59259259 0.62025316\n",
      " 0.65822785 0.72151899 0.6835443  0.73417722]\n",
      "Cross validation Mean: 0.6578215346147835\n",
      "Cross validation error: 0.34217846538521646\n",
      "Run Time: 10541.065673828125\n",
      "LAYER-5; NODES-5\n",
      "MLPClassifier(activation='tanh', alpha=0, batch_size='auto', beta_1=0.9,\n",
      "              beta_2=0.999, early_stopping=False, epsilon=0.001,\n",
      "              hidden_layer_sizes=(5, 5, 5, 5, 5), learning_rate='constant',\n",
      "              learning_rate_init=0.001, max_iter=10000, momentum=0.9,\n",
      "              n_iter_no_change=10, nesterovs_momentum=True, power_t=0.5,\n",
      "              random_state=None, shuffle=True, solver='adam', tol=0.0001,\n",
      "              validation_fraction=0.1, verbose=False, warm_start=False)\n",
      "[0.72839506 0.75308642 0.72839506 0.7037037  0.74074074 0.78481013\n",
      " 0.65822785 0.72151899 0.69620253 0.75949367]\n",
      "Cross validation Mean: 0.7274574152211283\n",
      "Cross validation error: 0.2725425847788717\n",
      "Run Time: 39828.446533203125\n",
      "LAYER-5; NODES-10\n",
      "MLPClassifier(activation='tanh', alpha=0, batch_size='auto', beta_1=0.9,\n",
      "              beta_2=0.999, early_stopping=False, epsilon=0.001,\n",
      "              hidden_layer_sizes=(10, 10, 10, 10, 10), learning_rate='constant',\n",
      "              learning_rate_init=0.001, max_iter=10000, momentum=0.9,\n",
      "              n_iter_no_change=10, nesterovs_momentum=True, power_t=0.5,\n",
      "              random_state=None, shuffle=True, solver='adam', tol=0.0001,\n",
      "              validation_fraction=0.1, verbose=False, warm_start=False)\n",
      "[0.74074074 0.75308642 0.72839506 0.7037037  0.69135802 0.75949367\n",
      " 0.73417722 0.70886076 0.64556962 0.75949367]\n",
      "Cross validation Mean: 0.7224878887326145\n",
      "Cross validation error: 0.2775121112673855\n",
      "Run Time: 47310.60595703125\n",
      "LAYER-5; NODES-50\n",
      "MLPClassifier(activation='tanh', alpha=0, batch_size='auto', beta_1=0.9,\n",
      "              beta_2=0.999, early_stopping=False, epsilon=0.001,\n",
      "              hidden_layer_sizes=(50, 50, 50, 50, 50), learning_rate='constant',\n",
      "              learning_rate_init=0.001, max_iter=10000, momentum=0.9,\n",
      "              n_iter_no_change=10, nesterovs_momentum=True, power_t=0.5,\n",
      "              random_state=None, shuffle=True, solver='adam', tol=0.0001,\n",
      "              validation_fraction=0.1, verbose=False, warm_start=False)\n",
      "[0.75308642 0.72839506 0.69135802 0.75308642 0.79012346 0.84810127\n",
      " 0.73417722 0.72151899 0.73417722 0.75949367]\n",
      "Cross validation Mean: 0.7513517737146429\n",
      "Cross validation error: 0.2486482262853571\n",
      "Run Time: 26443.136474609375\n",
      "LAYER-5; NODES-100\n",
      "MLPClassifier(activation='tanh', alpha=0, batch_size='auto', beta_1=0.9,\n",
      "              beta_2=0.999, early_stopping=False, epsilon=0.001,\n",
      "              hidden_layer_sizes=(100, 100, 100, 100, 100),\n",
      "              learning_rate='constant', learning_rate_init=0.001,\n",
      "              max_iter=10000, momentum=0.9, n_iter_no_change=10,\n",
      "              nesterovs_momentum=True, power_t=0.5, random_state=None,\n",
      "              shuffle=True, solver='adam', tol=0.0001, validation_fraction=0.1,\n",
      "              verbose=False, warm_start=False)\n",
      "[0.72839506 0.79012346 0.67901235 0.75308642 0.74074074 0.86075949\n",
      " 0.73417722 0.6835443  0.74683544 0.73417722]\n",
      "Cross validation Mean: 0.7450851695577434\n",
      "Cross validation error: 0.2549148304422566\n",
      "Run Time: 40286.696533203125\n"
     ]
    }
   ],
   "source": [
    "cv_scores_5 = []\n",
    "cv_errors_5 = []\n",
    "run_times_5 = []\n",
    "for n in nodes:\n",
    "    start_time = time.time()*1000\n",
    "    #Neural Network Model \n",
    "    print('LAYER-5; NODES-{}'.format(n))\n",
    "    perceptron = MLPClassifier(hidden_layer_sizes=(n, n, n, n, n), activation='tanh', solver='adam', alpha=0, max_iter=10000, epsilon=0.001)\n",
    "    print(perceptron)\n",
    "    \n",
    "    #Cross-validation scores\n",
    "    cv_score = cross_val_score(perceptron, trainFeatures, trainLabels, cv=10)\n",
    "    cv_mean = np.mean(cv_score)\n",
    "    print(cv_score)\n",
    "    cv_scores_5.append(cv_mean)\n",
    "    print(\"Cross validation Mean:\", cv_mean)\n",
    "    \n",
    "    #Cross-validation errors\n",
    "    cv_error = 1-cv_mean\n",
    "    cv_errors_5.append(cv_error)\n",
    "    print('Cross validation error:', cv_error)\n",
    "    end_time = time.time()*1000\n",
    "    runtime = end_time - start_time\n",
    "    run_times_5.append(runtime)\n",
    "    print('Run Time:', runtime)"
   ]
  },
  {
   "cell_type": "markdown",
   "metadata": {},
   "source": [
    "### LAYER 10 - TANH"
   ]
  },
  {
   "cell_type": "code",
   "execution_count": 77,
   "metadata": {},
   "outputs": [
    {
     "name": "stdout",
     "output_type": "stream",
     "text": [
      "LAYER-10; NODES-2\n",
      "MLPClassifier(activation='tanh', alpha=0, batch_size='auto', beta_1=0.9,\n",
      "              beta_2=0.999, early_stopping=False, epsilon=0.001,\n",
      "              hidden_layer_sizes=(2, 2, 2, 2, 2, 2, 2, 2, 2, 2),\n",
      "              learning_rate='constant', learning_rate_init=0.001,\n",
      "              max_iter=10000, momentum=0.9, n_iter_no_change=10,\n",
      "              nesterovs_momentum=True, power_t=0.5, random_state=None,\n",
      "              shuffle=True, solver='adam', tol=0.0001, validation_fraction=0.1,\n",
      "              verbose=False, warm_start=False)\n",
      "[0.61728395 0.61728395 0.61728395 0.69135802 0.61728395 0.62025316\n",
      " 0.62025316 0.62025316 0.62025316 0.62025316]\n",
      "Cross validation Mean: 0.6261759649945302\n",
      "Cross validation error: 0.3738240350054698\n",
      "Run Time: 5068.9990234375\n",
      "LAYER-10; NODES-5\n",
      "MLPClassifier(activation='tanh', alpha=0, batch_size='auto', beta_1=0.9,\n",
      "              beta_2=0.999, early_stopping=False, epsilon=0.001,\n",
      "              hidden_layer_sizes=(5, 5, 5, 5, 5, 5, 5, 5, 5, 5),\n",
      "              learning_rate='constant', learning_rate_init=0.001,\n",
      "              max_iter=10000, momentum=0.9, n_iter_no_change=10,\n",
      "              nesterovs_momentum=True, power_t=0.5, random_state=None,\n",
      "              shuffle=True, solver='adam', tol=0.0001, validation_fraction=0.1,\n",
      "              verbose=False, warm_start=False)\n",
      "[0.61728395 0.72839506 0.61728395 0.69135802 0.61728395 0.73417722\n",
      " 0.6835443  0.55696203 0.62025316 0.62025316]\n",
      "Cross validation Mean: 0.6486794811689326\n",
      "Cross validation error: 0.3513205188310674\n",
      "Run Time: 18164.593994140625\n",
      "LAYER-10; NODES-10\n",
      "MLPClassifier(activation='tanh', alpha=0, batch_size='auto', beta_1=0.9,\n",
      "              beta_2=0.999, early_stopping=False, epsilon=0.001,\n",
      "              hidden_layer_sizes=(10, 10, 10, 10, 10, 10, 10, 10, 10, 10),\n",
      "              learning_rate='constant', learning_rate_init=0.001,\n",
      "              max_iter=10000, momentum=0.9, n_iter_no_change=10,\n",
      "              nesterovs_momentum=True, power_t=0.5, random_state=None,\n",
      "              shuffle=True, solver='adam', tol=0.0001, validation_fraction=0.1,\n",
      "              verbose=False, warm_start=False)\n",
      "[0.7037037  0.67901235 0.7654321  0.67901235 0.72839506 0.74683544\n",
      " 0.70886076 0.67088608 0.6835443  0.79746835]\n",
      "Cross validation Mean: 0.7163150492264416\n",
      "Cross validation error: 0.2836849507735584\n",
      "Run Time: 33402.601318359375\n",
      "LAYER-10; NODES-50\n",
      "MLPClassifier(activation='tanh', alpha=0, batch_size='auto', beta_1=0.9,\n",
      "              beta_2=0.999, early_stopping=False, epsilon=0.001,\n",
      "              hidden_layer_sizes=(50, 50, 50, 50, 50, 50, 50, 50, 50, 50),\n",
      "              learning_rate='constant', learning_rate_init=0.001,\n",
      "              max_iter=10000, momentum=0.9, n_iter_no_change=10,\n",
      "              nesterovs_momentum=True, power_t=0.5, random_state=None,\n",
      "              shuffle=True, solver='adam', tol=0.0001, validation_fraction=0.1,\n",
      "              verbose=False, warm_start=False)\n",
      "[0.71604938 0.77777778 0.74074074 0.72839506 0.69135802 0.82278481\n",
      " 0.72151899 0.74683544 0.72151899 0.73417722]\n",
      "Cross validation Mean: 0.7401156430692296\n",
      "Cross validation error: 0.2598843569307704\n",
      "Run Time: 25266.587158203125\n",
      "LAYER-10; NODES-100\n",
      "MLPClassifier(activation='tanh', alpha=0, batch_size='auto', beta_1=0.9,\n",
      "              beta_2=0.999, early_stopping=False, epsilon=0.001,\n",
      "              hidden_layer_sizes=(100, 100, 100, 100, 100, 100, 100, 100, 100,\n",
      "                                  100),\n",
      "              learning_rate='constant', learning_rate_init=0.001,\n",
      "              max_iter=10000, momentum=0.9, n_iter_no_change=10,\n",
      "              nesterovs_momentum=True, power_t=0.5, random_state=None,\n",
      "              shuffle=True, solver='adam', tol=0.0001, validation_fraction=0.1,\n",
      "              verbose=False, warm_start=False)\n",
      "[0.64197531 0.80246914 0.65432099 0.72839506 0.71604938 0.83544304\n",
      " 0.67088608 0.67088608 0.6835443  0.72151899]\n",
      "Cross validation Mean: 0.7125488357555868\n",
      "Cross validation error: 0.2874511642444132\n",
      "Run Time: 42182.08154296875\n"
     ]
    }
   ],
   "source": [
    "cv_scores_10 = []\n",
    "cv_errors_10 = []\n",
    "run_times_10 = []\n",
    "for n in nodes:\n",
    "    start_time = time.time()*1000\n",
    "    #Neural Network Model \n",
    "    print('LAYER-10; NODES-{}'.format(n))\n",
    "    perceptron = MLPClassifier(hidden_layer_sizes=(n, n, n, n, n, n, n, n, n, n), activation='tanh', solver='adam', alpha=0, max_iter=10000, epsilon=0.001)\n",
    "    print(perceptron)\n",
    "    \n",
    "    #Cross-validation scores\n",
    "    cv_score = cross_val_score(perceptron, trainFeatures, trainLabels, cv=10)\n",
    "    cv_mean = np.mean(cv_score)\n",
    "    print(cv_score)\n",
    "    cv_scores_10.append(cv_mean)\n",
    "    print(\"Cross validation Mean:\", cv_mean)\n",
    "    \n",
    "    #Cross-validation errors\n",
    "    cv_error = 1-cv_mean\n",
    "    cv_errors_10.append(cv_error)\n",
    "    print('Cross validation error:', cv_error)\n",
    "    end_time = time.time()*1000\n",
    "    runtime = end_time - start_time\n",
    "    run_times_10.append(runtime)\n",
    "    print('Run Time:', runtime)"
   ]
  },
  {
   "cell_type": "code",
   "execution_count": 78,
   "metadata": {},
   "outputs": [
    {
     "data": {
      "image/png": "[encoded data removed]",
      "text/plain": [
       "<Figure size 576x576 with 1 Axes>"
      ]
     },
     "metadata": {
      "needs_background": "light"
     },
     "output_type": "display_data"
    },
    {
     "data": {
      "image/png": "[encoded data removed]",
      "text/plain": [
       "<Figure size 432x288 with 1 Axes>"
      ]
     },
     "metadata": {},
     "output_type": "display_data"
    }
   ],
   "source": [
    "#plot the data points\n",
    "### https://matplotlib.org/api/_as_gen/matplotlib.pyplot.scatter.html\n",
    "fig1 = mp.figure(figsize=(8, 8))\n",
    "\n",
    "mp.scatter(nodes,cv_errors_1,s=25, c='blue')\n",
    "line1 = mp.plot(nodes,cv_errors_1, label='Layer 1', color='blue')\n",
    "\n",
    "mp.scatter(nodes,cv_errors_2,s=25, c='red')\n",
    "line2 = mp.plot(nodes,cv_errors_2, label='Layer 2', color='red')\n",
    "\n",
    "mp.scatter(nodes,cv_errors_5,s=25, c='green')\n",
    "line3 = mp.plot(nodes,cv_errors_5, label='Layer 5', color='green')\n",
    "\n",
    "mp.scatter(nodes,cv_errors_10,s=25, c='yellow')\n",
    "line4 = mp.plot(nodes,cv_errors_10, label='Layer 10', color='yellow')\n",
    "\n",
    "mp.legend(prop={'size': 10})\n",
    "\n",
    "#specify the axes\n",
    "mp.xlabel(\"Node values in Layers\")\n",
    "mp.ylabel(\"CV_Error\")\n",
    "\n",
    "#Labeling the plot\n",
    "#mp.legend(['1'])\n",
    "#mp.legend(legends)\n",
    "fig1.suptitle('Figure - CV Errors - Tanh', fontsize=15)\n",
    "\n",
    "\n",
    "#table\n",
    "fig = mp.figure()\n",
    "table_vals = []\n",
    "\n",
    "np_array = np.array(cv_errors_1)\n",
    "np_round_to_tenths = np.around(np_array, 5)\n",
    "round_to_tenths = list(np_round_to_tenths)\n",
    "table_vals.append(round_to_tenths)\n",
    "\n",
    "np_array = np.array(cv_errors_2)\n",
    "np_round_to_tenths = np.around(np_array, 5)\n",
    "round_to_tenths = list(np_round_to_tenths)\n",
    "table_vals.append(round_to_tenths)\n",
    "\n",
    "np_array = np.array(cv_errors_5)\n",
    "np_round_to_tenths = np.around(np_array, 5)\n",
    "round_to_tenths = list(np_round_to_tenths)\n",
    "table_vals.append(round_to_tenths)\n",
    "\n",
    "np_array = np.array(cv_errors_10)\n",
    "np_round_to_tenths = np.around(np_array, 5)\n",
    "round_to_tenths = list(np_round_to_tenths)\n",
    "table_vals.append(round_to_tenths)\n",
    "\n",
    "row_labels = ['1-Hidden Layer', '2-Hidden Layer', '5-Hidden Layer', '10-Hidden Layer']\n",
    "col_labels = ['2-Nodes', '5-Nodes', '10-Nodes', '50-Nodes', '100-Nodes']\n",
    "the_table = mp.table(cellText=table_vals,\n",
    "                      rowLabels=row_labels,\n",
    "                      colLabels=col_labels,\n",
    "                      loc='center')\n",
    "the_table.auto_set_font_size(False)\n",
    "the_table.set_fontsize(14)\n",
    "the_table.scale(2, 2)\n",
    "\n",
    "# Removing ticks and spines enables you to get the figure only with table\n",
    "mp.tick_params(axis='x', which='both', bottom=False, top=False, labelbottom=False)\n",
    "mp.tick_params(axis='y', which='both', right=False, left=False, labelleft=False)\n",
    "for pos in ['right','top','bottom','left']:\n",
    "    mp.gca().spines[pos].set_visible(False)\n",
    "mp.savefig('matplotlib-table.png', bbox_inches='tight', pad_inches=0.05)\n",
    "\n",
    "\n",
    "#display the current graph\n",
    "mp.show()"
   ]
  },
  {
   "cell_type": "markdown",
   "metadata": {},
   "source": [
    "### Best Model 2 - Tanh - 2 Layers & 50 Nodes each"
   ]
  },
  {
   "cell_type": "code",
   "execution_count": 82,
   "metadata": {},
   "outputs": [],
   "source": [
    "model2 = MLPClassifier(hidden_layer_sizes=(50, 50), activation='tanh', solver='adam', alpha=0, max_iter=10000, epsilon=0.001)"
   ]
  },
  {
   "cell_type": "code",
   "execution_count": 83,
   "metadata": {},
   "outputs": [
    {
     "name": "stdout",
     "output_type": "stream",
     "text": [
      "[0.62962963 0.7654321  0.69135802 0.75308642 0.66666667 0.84810127\n",
      " 0.75949367 0.70886076 0.73417722 0.75949367]\n",
      "0.7316299421784654\n"
     ]
    }
   ],
   "source": [
    "cv_scores = cross_val_score(model2, trainFeatures, trainLabels, cv=10)\n",
    "print(cv_scores)\n",
    "print(cv_scores.mean())"
   ]
  },
  {
   "cell_type": "markdown",
   "metadata": {},
   "source": [
    "#### CHANGING NODES"
   ]
  },
  {
   "cell_type": "code",
   "execution_count": 84,
   "metadata": {},
   "outputs": [],
   "source": [
    "layers = [1,2,5,10]\n",
    "nodes = [16,32,64,128]"
   ]
  },
  {
   "cell_type": "markdown",
   "metadata": {},
   "source": [
    "### LAYER 1 - RELU - NODES VARIATION"
   ]
  },
  {
   "cell_type": "code",
   "execution_count": 85,
   "metadata": {},
   "outputs": [
    {
     "name": "stdout",
     "output_type": "stream",
     "text": [
      "LAYER-1; NODES-16\n",
      "MLPClassifier(activation='relu', alpha=0, batch_size='auto', beta_1=0.9,\n",
      "              beta_2=0.999, early_stopping=False, epsilon=0.001,\n",
      "              hidden_layer_sizes=16, learning_rate='constant',\n",
      "              learning_rate_init=0.001, max_iter=10000, momentum=0.9,\n",
      "              n_iter_no_change=10, nesterovs_momentum=True, power_t=0.5,\n",
      "              random_state=None, shuffle=True, solver='adam', tol=0.0001,\n",
      "              validation_fraction=0.1, verbose=False, warm_start=False)\n",
      "[0.75308642 0.72839506 0.7654321  0.82716049 0.67901235 0.73417722\n",
      " 0.73417722 0.72151899 0.72151899 0.7721519 ]\n",
      "Cross validation Mean: 0.7436630723550555\n",
      "Cross validation error: 0.25633692764494453\n",
      "Run Time: 29402.372802734375\n",
      "LAYER-1; NODES-32\n",
      "MLPClassifier(activation='relu', alpha=0, batch_size='auto', beta_1=0.9,\n",
      "              beta_2=0.999, early_stopping=False, epsilon=0.001,\n",
      "              hidden_layer_sizes=32, learning_rate='constant',\n",
      "              learning_rate_init=0.001, max_iter=10000, momentum=0.9,\n",
      "              n_iter_no_change=10, nesterovs_momentum=True, power_t=0.5,\n",
      "              random_state=None, shuffle=True, solver='adam', tol=0.0001,\n",
      "              validation_fraction=0.1, verbose=False, warm_start=False)\n",
      "[0.75308642 0.74074074 0.79012346 0.77777778 0.7654321  0.81012658\n",
      " 0.74683544 0.70886076 0.79746835 0.74683544]\n",
      "Cross validation Mean: 0.7637287076105641\n",
      "Cross validation error: 0.2362712923894359\n",
      "Run Time: 44036.89990234375\n",
      "LAYER-1; NODES-64\n",
      "MLPClassifier(activation='relu', alpha=0, batch_size='auto', beta_1=0.9,\n",
      "              beta_2=0.999, early_stopping=False, epsilon=0.001,\n",
      "              hidden_layer_sizes=64, learning_rate='constant',\n",
      "              learning_rate_init=0.001, max_iter=10000, momentum=0.9,\n",
      "              n_iter_no_change=10, nesterovs_momentum=True, power_t=0.5,\n",
      "              random_state=None, shuffle=True, solver='adam', tol=0.0001,\n",
      "              validation_fraction=0.1, verbose=False, warm_start=False)\n",
      "[0.7654321  0.77777778 0.77777778 0.72839506 0.74074074 0.79746835\n",
      " 0.72151899 0.72151899 0.72151899 0.7721519 ]\n",
      "Cross validation Mean: 0.7524300671979998\n",
      "Cross validation error: 0.24756993280200024\n",
      "Run Time: 70377.42016601562\n",
      "LAYER-1; NODES-128\n",
      "MLPClassifier(activation='relu', alpha=0, batch_size='auto', beta_1=0.9,\n",
      "              beta_2=0.999, early_stopping=False, epsilon=0.001,\n",
      "              hidden_layer_sizes=128, learning_rate='constant',\n",
      "              learning_rate_init=0.001, max_iter=10000, momentum=0.9,\n",
      "              n_iter_no_change=10, nesterovs_momentum=True, power_t=0.5,\n",
      "              random_state=None, shuffle=True, solver='adam', tol=0.0001,\n",
      "              validation_fraction=0.1, verbose=False, warm_start=False)\n",
      "[0.74074074 0.77777778 0.80246914 0.72839506 0.7654321  0.78481013\n",
      " 0.75949367 0.73417722 0.70886076 0.75949367]\n",
      "Cross validation Mean: 0.756165025785279\n",
      "Cross validation error: 0.243834974214721\n",
      "Run Time: 115445.16064453125\n"
     ]
    }
   ],
   "source": [
    "cv_scores_1 = []\n",
    "cv_errors_1 = []\n",
    "run_times_1 = []\n",
    "for n in nodes:\n",
    "    start_time = time.time()*1000\n",
    "    #Neural Network Model \n",
    "    print('LAYER-1; NODES-{}'.format(n))\n",
    "    perceptron = MLPClassifier(hidden_layer_sizes=(n), activation='relu', solver='adam', alpha=0, max_iter=10000, epsilon=0.001)\n",
    "    print(perceptron)\n",
    "    \n",
    "    #Cross-validation scores\n",
    "    cv_score = cross_val_score(perceptron, trainFeatures, trainLabels, cv=10)\n",
    "    cv_mean = np.mean(cv_score)\n",
    "    print(cv_score)\n",
    "    cv_scores_1.append(cv_mean)\n",
    "    print(\"Cross validation Mean:\", cv_mean)\n",
    "    \n",
    "    #Cross-validation errors\n",
    "    cv_error = 1-cv_mean\n",
    "    cv_errors_1.append(cv_error)\n",
    "    print('Cross validation error:', cv_error)\n",
    "    end_time = time.time()*1000\n",
    "    runtime = end_time - start_time\n",
    "    run_times_1.append(runtime)\n",
    "    print('Run Time:', runtime)"
   ]
  },
  {
   "cell_type": "markdown",
   "metadata": {},
   "source": [
    "### LAYER 2 - RELU - NODES VARIATION"
   ]
  },
  {
   "cell_type": "code",
   "execution_count": 86,
   "metadata": {},
   "outputs": [
    {
     "name": "stdout",
     "output_type": "stream",
     "text": [
      "LAYER-2; NODES-16\n",
      "MLPClassifier(activation='relu', alpha=0, batch_size='auto', beta_1=0.9,\n",
      "              beta_2=0.999, early_stopping=False, epsilon=0.001,\n",
      "              hidden_layer_sizes=(16, 16), learning_rate='constant',\n",
      "              learning_rate_init=0.001, max_iter=10000, momentum=0.9,\n",
      "              n_iter_no_change=10, nesterovs_momentum=True, power_t=0.5,\n",
      "              random_state=None, shuffle=True, solver='adam', tol=0.0001,\n",
      "              validation_fraction=0.1, verbose=False, warm_start=False)\n",
      "[0.71604938 0.75308642 0.74074074 0.60493827 0.74074074 0.81012658\n",
      " 0.72151899 0.69620253 0.75949367 0.73417722]\n",
      "Cross validation Mean: 0.7277074542897328\n",
      "Cross validation error: 0.2722925457102672\n",
      "Run Time: 64619.787109375\n",
      "LAYER-2; NODES-32\n",
      "MLPClassifier(activation='relu', alpha=0, batch_size='auto', beta_1=0.9,\n",
      "              beta_2=0.999, early_stopping=False, epsilon=0.001,\n",
      "              hidden_layer_sizes=(32, 32), learning_rate='constant',\n",
      "              learning_rate_init=0.001, max_iter=10000, momentum=0.9,\n",
      "              n_iter_no_change=10, nesterovs_momentum=True, power_t=0.5,\n",
      "              random_state=None, shuffle=True, solver='adam', tol=0.0001,\n",
      "              validation_fraction=0.1, verbose=False, warm_start=False)\n",
      "[0.74074074 0.74074074 0.72839506 0.77777778 0.82716049 0.82278481\n",
      " 0.6835443  0.70886076 0.79746835 0.73417722]\n",
      "Cross validation Mean: 0.7561650257852789\n",
      "Cross validation error: 0.2438349742147211\n",
      "Run Time: 63578.344970703125\n",
      "LAYER-2; NODES-64\n",
      "MLPClassifier(activation='relu', alpha=0, batch_size='auto', beta_1=0.9,\n",
      "              beta_2=0.999, early_stopping=False, epsilon=0.001,\n",
      "              hidden_layer_sizes=(64, 64), learning_rate='constant',\n",
      "              learning_rate_init=0.001, max_iter=10000, momentum=0.9,\n",
      "              n_iter_no_change=10, nesterovs_momentum=True, power_t=0.5,\n",
      "              random_state=None, shuffle=True, solver='adam', tol=0.0001,\n",
      "              validation_fraction=0.1, verbose=False, warm_start=False)\n",
      "[0.69135802 0.80246914 0.74074074 0.79012346 0.71604938 0.78481013\n",
      " 0.70886076 0.72151899 0.75949367 0.79746835]\n",
      "Cross validation Mean: 0.7512892639474917\n",
      "Cross validation error: 0.24871073605250826\n",
      "Run Time: 64493.723388671875\n",
      "LAYER-2; NODES-128\n",
      "MLPClassifier(activation='relu', alpha=0, batch_size='auto', beta_1=0.9,\n",
      "              beta_2=0.999, early_stopping=False, epsilon=0.001,\n",
      "              hidden_layer_sizes=(128, 128), learning_rate='constant',\n",
      "              learning_rate_init=0.001, max_iter=10000, momentum=0.9,\n",
      "              n_iter_no_change=10, nesterovs_momentum=True, power_t=0.5,\n",
      "              random_state=None, shuffle=True, solver='adam', tol=0.0001,\n",
      "              validation_fraction=0.1, verbose=False, warm_start=False)\n",
      "[0.74074074 0.80246914 0.74074074 0.79012346 0.75308642 0.82278481\n",
      " 0.72151899 0.72151899 0.75949367 0.79746835]\n",
      "Cross validation Mean: 0.7649945303953744\n",
      "Cross validation error: 0.23500546960462565\n",
      "Run Time: 80537.38427734375\n"
     ]
    }
   ],
   "source": [
    "cv_scores_2 = []\n",
    "cv_errors_2 = []\n",
    "run_times_2 = []\n",
    "for n in nodes:\n",
    "    start_time = time.time()*1000\n",
    "    #Neural Network Model \n",
    "    print('LAYER-2; NODES-{}'.format(n))\n",
    "    perceptron = MLPClassifier(hidden_layer_sizes=(n, n), activation='relu', solver='adam', alpha=0, max_iter=10000, epsilon=0.001)\n",
    "    print(perceptron)\n",
    "    \n",
    "    #Cross-validation scores\n",
    "    cv_score = cross_val_score(perceptron, trainFeatures, trainLabels, cv=10)\n",
    "    cv_mean = np.mean(cv_score)\n",
    "    print(cv_score)\n",
    "    cv_scores_2.append(cv_mean)\n",
    "    print(\"Cross validation Mean:\", cv_mean)\n",
    "    \n",
    "    #Cross-validation errors\n",
    "    cv_error = 1-cv_mean\n",
    "    cv_errors_2.append(cv_error)\n",
    "    print('Cross validation error:', cv_error)\n",
    "    end_time = time.time()*1000\n",
    "    runtime = end_time - start_time\n",
    "    run_times_2.append(runtime)\n",
    "    print('Run Time:', runtime)"
   ]
  },
  {
   "cell_type": "markdown",
   "metadata": {},
   "source": [
    "### LAYER 5 - RELU - NODES VARIATION"
   ]
  },
  {
   "cell_type": "code",
   "execution_count": 87,
   "metadata": {},
   "outputs": [
    {
     "name": "stdout",
     "output_type": "stream",
     "text": [
      "LAYER-5; NODES-16\n",
      "MLPClassifier(activation='relu', alpha=0, batch_size='auto', beta_1=0.9,\n",
      "              beta_2=0.999, early_stopping=False, epsilon=0.001,\n",
      "              hidden_layer_sizes=(16, 16, 16, 16, 16), learning_rate='constant',\n",
      "              learning_rate_init=0.001, max_iter=10000, momentum=0.9,\n",
      "              n_iter_no_change=10, nesterovs_momentum=True, power_t=0.5,\n",
      "              random_state=None, shuffle=True, solver='adam', tol=0.0001,\n",
      "              validation_fraction=0.1, verbose=False, warm_start=False)\n",
      "[0.66666667 0.80246914 0.65432099 0.75308642 0.71604938 0.75949367\n",
      " 0.69620253 0.6835443  0.6835443  0.72151899]\n",
      "Cross validation Mean: 0.7136896390060947\n",
      "Cross validation error: 0.2863103609939053\n",
      "Run Time: 33328.015869140625\n",
      "LAYER-5; NODES-32\n",
      "MLPClassifier(activation='relu', alpha=0, batch_size='auto', beta_1=0.9,\n",
      "              beta_2=0.999, early_stopping=False, epsilon=0.001,\n",
      "              hidden_layer_sizes=(32, 32, 32, 32, 32), learning_rate='constant',\n",
      "              learning_rate_init=0.001, max_iter=10000, momentum=0.9,\n",
      "              n_iter_no_change=10, nesterovs_momentum=True, power_t=0.5,\n",
      "              random_state=None, shuffle=True, solver='adam', tol=0.0001,\n",
      "              validation_fraction=0.1, verbose=False, warm_start=False)\n",
      "[0.66666667 0.77777778 0.75308642 0.83950617 0.75308642 0.74683544\n",
      " 0.65822785 0.72151899 0.78481013 0.74683544]\n",
      "Cross validation Mean: 0.744835130489139\n",
      "Cross validation error: 0.25516486951086104\n",
      "Run Time: 23753.180908203125\n",
      "LAYER-5; NODES-64\n",
      "MLPClassifier(activation='relu', alpha=0, batch_size='auto', beta_1=0.9,\n",
      "              beta_2=0.999, early_stopping=False, epsilon=0.001,\n",
      "              hidden_layer_sizes=(64, 64, 64, 64, 64), learning_rate='constant',\n",
      "              learning_rate_init=0.001, max_iter=10000, momentum=0.9,\n",
      "              n_iter_no_change=10, nesterovs_momentum=True, power_t=0.5,\n",
      "              random_state=None, shuffle=True, solver='adam', tol=0.0001,\n",
      "              validation_fraction=0.1, verbose=False, warm_start=False)\n",
      "[0.69135802 0.82716049 0.7654321  0.82716049 0.72839506 0.7721519\n",
      " 0.6835443  0.6835443  0.75949367 0.81012658]\n",
      "Cross validation Mean: 0.7548366932333177\n",
      "Cross validation error: 0.2451633067666823\n",
      "Run Time: 31308.33447265625\n",
      "LAYER-5; NODES-128\n",
      "MLPClassifier(activation='relu', alpha=0, batch_size='auto', beta_1=0.9,\n",
      "              beta_2=0.999, early_stopping=False, epsilon=0.001,\n",
      "              hidden_layer_sizes=(128, 128, 128, 128, 128),\n",
      "              learning_rate='constant', learning_rate_init=0.001,\n",
      "              max_iter=10000, momentum=0.9, n_iter_no_change=10,\n",
      "              nesterovs_momentum=True, power_t=0.5, random_state=None,\n",
      "              shuffle=True, solver='adam', tol=0.0001, validation_fraction=0.1,\n",
      "              verbose=False, warm_start=False)\n",
      "[0.66666667 0.79012346 0.7037037  0.74074074 0.7037037  0.74683544\n",
      " 0.70886076 0.75949367 0.78481013 0.79746835]\n",
      "Cross validation Mean: 0.7402406626035317\n",
      "Cross validation error: 0.2597593373964683\n",
      "Run Time: 41058.406494140625\n"
     ]
    }
   ],
   "source": [
    "cv_scores_5 = []\n",
    "cv_errors_5 = []\n",
    "run_times_5 = []\n",
    "for n in nodes:\n",
    "    start_time = time.time()*1000\n",
    "    #Neural Network Model \n",
    "    print('LAYER-5; NODES-{}'.format(n))\n",
    "    perceptron = MLPClassifier(hidden_layer_sizes=(n, n, n, n, n), activation='relu', solver='adam', alpha=0, max_iter=10000, epsilon=0.001)\n",
    "    print(perceptron)\n",
    "    \n",
    "    #Cross-validation scores\n",
    "    cv_score = cross_val_score(perceptron, trainFeatures, trainLabels, cv=10)\n",
    "    cv_mean = np.mean(cv_score)\n",
    "    print(cv_score)\n",
    "    cv_scores_5.append(cv_mean)\n",
    "    print(\"Cross validation Mean:\", cv_mean)\n",
    "    \n",
    "    #Cross-validation errors\n",
    "    cv_error = 1-cv_mean\n",
    "    cv_errors_5.append(cv_error)\n",
    "    print('Cross validation error:', cv_error)\n",
    "    end_time = time.time()*1000\n",
    "    runtime = end_time - start_time\n",
    "    run_times_5.append(runtime)\n",
    "    print('Run Time:', runtime)"
   ]
  },
  {
   "cell_type": "markdown",
   "metadata": {},
   "source": [
    "### LAYER 10 - RELU - NODES VARITION "
   ]
  },
  {
   "cell_type": "code",
   "execution_count": 88,
   "metadata": {},
   "outputs": [
    {
     "name": "stdout",
     "output_type": "stream",
     "text": [
      "LAYER-10; NODES-16\n",
      "MLPClassifier(activation='relu', alpha=0, batch_size='auto', beta_1=0.9,\n",
      "              beta_2=0.999, early_stopping=False, epsilon=0.001,\n",
      "              hidden_layer_sizes=(16, 16, 16, 16, 16, 16, 16, 16, 16, 16),\n",
      "              learning_rate='constant', learning_rate_init=0.001,\n",
      "              max_iter=10000, momentum=0.9, n_iter_no_change=10,\n",
      "              nesterovs_momentum=True, power_t=0.5, random_state=None,\n",
      "              shuffle=True, solver='adam', tol=0.0001, validation_fraction=0.1,\n",
      "              verbose=False, warm_start=False)\n",
      "[0.61728395 0.74074074 0.61728395 0.79012346 0.75308642 0.81012658\n",
      " 0.63291139 0.62025316 0.64556962 0.62025316]\n",
      "Cross validation Mean: 0.6847632442569151\n",
      "Cross validation error: 0.31523675574308485\n",
      "Run Time: 15748.493408203125\n",
      "LAYER-10; NODES-32\n",
      "MLPClassifier(activation='relu', alpha=0, batch_size='auto', beta_1=0.9,\n",
      "              beta_2=0.999, early_stopping=False, epsilon=0.001,\n",
      "              hidden_layer_sizes=(32, 32, 32, 32, 32, 32, 32, 32, 32, 32),\n",
      "              learning_rate='constant', learning_rate_init=0.001,\n",
      "              max_iter=10000, momentum=0.9, n_iter_no_change=10,\n",
      "              nesterovs_momentum=True, power_t=0.5, random_state=None,\n",
      "              shuffle=True, solver='adam', tol=0.0001, validation_fraction=0.1,\n",
      "              verbose=False, warm_start=False)\n",
      "[0.56790123 0.77777778 0.74074074 0.61728395 0.61728395 0.79746835\n",
      " 0.62025316 0.65822785 0.72151899 0.81012658]\n",
      "Cross validation Mean: 0.6928582591029848\n",
      "Cross validation error: 0.3071417408970152\n",
      "Run Time: 19000.7587890625\n",
      "LAYER-10; NODES-64\n",
      "MLPClassifier(activation='relu', alpha=0, batch_size='auto', beta_1=0.9,\n",
      "              beta_2=0.999, early_stopping=False, epsilon=0.001,\n",
      "              hidden_layer_sizes=(64, 64, 64, 64, 64, 64, 64, 64, 64, 64),\n",
      "              learning_rate='constant', learning_rate_init=0.001,\n",
      "              max_iter=10000, momentum=0.9, n_iter_no_change=10,\n",
      "              nesterovs_momentum=True, power_t=0.5, random_state=None,\n",
      "              shuffle=True, solver='adam', tol=0.0001, validation_fraction=0.1,\n",
      "              verbose=False, warm_start=False)\n",
      "[0.65432099 0.77777778 0.69135802 0.69135802 0.66666667 0.81012658\n",
      " 0.73417722 0.75949367 0.72151899 0.73417722]\n",
      "Cross validation Mean: 0.7240975152367558\n",
      "Cross validation error: 0.2759024847632442\n",
      "Run Time: 31577.03955078125\n",
      "LAYER-10; NODES-128\n",
      "MLPClassifier(activation='relu', alpha=0, batch_size='auto', beta_1=0.9,\n",
      "              beta_2=0.999, early_stopping=False, epsilon=0.001,\n",
      "              hidden_layer_sizes=(128, 128, 128, 128, 128, 128, 128, 128, 128,\n",
      "                                  128),\n",
      "              learning_rate='constant', learning_rate_init=0.001,\n",
      "              max_iter=10000, momentum=0.9, n_iter_no_change=10,\n",
      "              nesterovs_momentum=True, power_t=0.5, random_state=None,\n",
      "              shuffle=True, solver='adam', tol=0.0001, validation_fraction=0.1,\n",
      "              verbose=False, warm_start=False)\n",
      "[0.69135802 0.7654321  0.7654321  0.74074074 0.7037037  0.78481013\n",
      " 0.6835443  0.6835443  0.67088608 0.69620253]\n",
      "Cross validation Mean: 0.7185654008438819\n",
      "Cross validation error: 0.2814345991561181\n",
      "Run Time: 45001.965576171875\n"
     ]
    }
   ],
   "source": [
    "cv_scores_10 = []\n",
    "cv_errors_10 = []\n",
    "run_times_10 = []\n",
    "for n in nodes:\n",
    "    start_time = time.time()*1000\n",
    "    #Neural Network Model \n",
    "    print('LAYER-10; NODES-{}'.format(n))\n",
    "    perceptron = MLPClassifier(hidden_layer_sizes=(n, n, n, n, n, n, n, n, n, n), activation='relu', solver='adam', alpha=0, max_iter=10000, epsilon=0.001)\n",
    "    print(perceptron)\n",
    "    \n",
    "    #Cross-validation scores\n",
    "    cv_score = cross_val_score(perceptron, trainFeatures, trainLabels, cv=10)\n",
    "    cv_mean = np.mean(cv_score)\n",
    "    print(cv_score)\n",
    "    cv_scores_10.append(cv_mean)\n",
    "    print(\"Cross validation Mean:\", cv_mean)\n",
    "    \n",
    "    #Cross-validation errors\n",
    "    cv_error = 1-cv_mean\n",
    "    cv_errors_10.append(cv_error)\n",
    "    print('Cross validation error:', cv_error)\n",
    "    end_time = time.time()*1000\n",
    "    runtime = end_time - start_time\n",
    "    run_times_10.append(runtime)\n",
    "    print('Run Time:', runtime)"
   ]
  },
  {
   "cell_type": "code",
   "execution_count": 89,
   "metadata": {},
   "outputs": [
    {
     "data": {
      "image/png": "[encoded data removed]",
      "text/plain": [
       "<Figure size 576x576 with 1 Axes>"
      ]
     },
     "metadata": {
      "needs_background": "light"
     },
     "output_type": "display_data"
    },
    {
     "data": {
      "image/png": "[encoded data removed]",
      "text/plain": [
       "<Figure size 432x288 with 1 Axes>"
      ]
     },
     "metadata": {},
     "output_type": "display_data"
    }
   ],
   "source": [
    "#plot the data points\n",
    "### https://matplotlib.org/api/_as_gen/matplotlib.pyplot.scatter.html\n",
    "fig1 = mp.figure(figsize=(8, 8))\n",
    "\n",
    "mp.scatter(nodes,cv_errors_1,s=25, c='blue')\n",
    "line1 = mp.plot(nodes,cv_errors_1, label='Layer 1', color='blue')\n",
    "\n",
    "mp.scatter(nodes,cv_errors_2,s=25, c='red')\n",
    "line2 = mp.plot(nodes,cv_errors_2, label='Layer 2', color='red')\n",
    "\n",
    "mp.scatter(nodes,cv_errors_5,s=25, c='green')\n",
    "line3 = mp.plot(nodes,cv_errors_5, label='Layer 5', color='green')\n",
    "\n",
    "mp.scatter(nodes,cv_errors_10,s=25, c='yellow')\n",
    "line4 = mp.plot(nodes,cv_errors_10, label='Layer 10', color='yellow')\n",
    "\n",
    "mp.legend(prop={'size': 10})\n",
    "\n",
    "#specify the axes\n",
    "mp.xlabel(\"Node values in Layers\")\n",
    "mp.ylabel(\"CV_Error\")\n",
    "\n",
    "#Labeling the plot\n",
    "#mp.legend(['1'])\n",
    "#mp.legend(legends)\n",
    "fig1.suptitle('Figure - CV Errors - RELU - Nodes variation', fontsize=15)\n",
    "\n",
    "\n",
    "#table\n",
    "fig = mp.figure()\n",
    "table_vals = []\n",
    "\n",
    "np_array = np.array(cv_errors_1)\n",
    "np_round_to_tenths = np.around(np_array, 5)\n",
    "round_to_tenths = list(np_round_to_tenths)\n",
    "table_vals.append(round_to_tenths)\n",
    "\n",
    "np_array = np.array(cv_errors_2)\n",
    "np_round_to_tenths = np.around(np_array, 5)\n",
    "round_to_tenths = list(np_round_to_tenths)\n",
    "table_vals.append(round_to_tenths)\n",
    "\n",
    "np_array = np.array(cv_errors_5)\n",
    "np_round_to_tenths = np.around(np_array, 5)\n",
    "round_to_tenths = list(np_round_to_tenths)\n",
    "table_vals.append(round_to_tenths)\n",
    "\n",
    "np_array = np.array(cv_errors_10)\n",
    "np_round_to_tenths = np.around(np_array, 5)\n",
    "round_to_tenths = list(np_round_to_tenths)\n",
    "table_vals.append(round_to_tenths)\n",
    "\n",
    "row_labels = ['1-Hidden Layer', '2-Hidden Layer', '5-Hidden Layer', '10-Hidden Layer']\n",
    "col_labels = ['16-Nodes', '32-Nodes', '64-Nodes', '128-Nodes']\n",
    "the_table = mp.table(cellText=table_vals,\n",
    "                      rowLabels=row_labels,\n",
    "                      colLabels=col_labels,\n",
    "                      loc='center')\n",
    "the_table.auto_set_font_size(False)\n",
    "the_table.set_fontsize(14)\n",
    "the_table.scale(2, 2)\n",
    "\n",
    "# Removing ticks and spines enables you to get the figure only with table\n",
    "mp.tick_params(axis='x', which='both', bottom=False, top=False, labelbottom=False)\n",
    "mp.tick_params(axis='y', which='both', right=False, left=False, labelleft=False)\n",
    "for pos in ['right','top','bottom','left']:\n",
    "    mp.gca().spines[pos].set_visible(False)\n",
    "mp.savefig('matplotlib-table.png', bbox_inches='tight', pad_inches=0.05)\n",
    "\n",
    "\n",
    "#display the current graph\n",
    "mp.show()"
   ]
  },
  {
   "cell_type": "markdown",
   "metadata": {},
   "source": [
    "### Best Model 3 - RELU - 2 Layer 128 nodes"
   ]
  },
  {
   "cell_type": "code",
   "execution_count": 94,
   "metadata": {},
   "outputs": [],
   "source": [
    "model3 = MLPClassifier(hidden_layer_sizes=(128, 128), activation='relu', solver='adam', alpha=0, max_iter=10000, epsilon=0.001)"
   ]
  },
  {
   "cell_type": "code",
   "execution_count": 95,
   "metadata": {},
   "outputs": [
    {
     "name": "stdout",
     "output_type": "stream",
     "text": [
      "[0.71604938 0.7654321  0.71604938 0.7654321  0.7654321  0.84810127\n",
      " 0.72151899 0.73417722 0.72151899 0.83544304]\n",
      "0.7589154555399281\n"
     ]
    }
   ],
   "source": [
    "cv_scores = cross_val_score(model3, trainFeatures, trainLabels, cv=10)\n",
    "print(cv_scores)\n",
    "print(cv_scores.mean())"
   ]
  },
  {
   "cell_type": "markdown",
   "metadata": {},
   "source": [
    "### TEST SCORES"
   ]
  },
  {
   "cell_type": "code",
   "execution_count": 96,
   "metadata": {},
   "outputs": [],
   "source": [
    "optimal_model = model3"
   ]
  },
  {
   "cell_type": "code",
   "execution_count": 97,
   "metadata": {},
   "outputs": [
    {
     "name": "stdout",
     "output_type": "stream",
     "text": [
      "[0.71604938 0.80246914 0.77777778 0.74074074 0.79012346 0.82278481\n",
      " 0.70886076 0.70886076 0.74683544 0.75949367]\n",
      "0.7573995936865137\n"
     ]
    }
   ],
   "source": [
    "cv_scores = cross_val_score(optimal_model, trainFeatures, trainLabels, cv=10)\n",
    "optimal_model.fit(trainFeatures, trainLabels)\n",
    "print(cv_scores)\n",
    "print(cv_scores.mean())"
   ]
  },
  {
   "cell_type": "code",
   "execution_count": 98,
   "metadata": {},
   "outputs": [
    {
     "name": "stdout",
     "output_type": "stream",
     "text": [
      "0.815\n",
      "0.18500000000000005\n"
     ]
    }
   ],
   "source": [
    "score = optimal_model.score(testFeatures, testLabels)\n",
    "nn_error = 1-score\n",
    "print(score)\n",
    "print(nn_error)"
   ]
  },
  {
   "cell_type": "markdown",
   "metadata": {},
   "source": [
    "### QUESTION 1"
   ]
  },
  {
   "cell_type": "markdown",
   "metadata": {},
   "source": [
    "Answer - The hyperparameters that I selected for the final model are with 2 layers with 128 nodes each. The activation function is RELU and the learning rate is default which is 0.001 and max iterations are 10000. All other parameters are default. I have selected this model because it has the least cross validation error(i.e., 0.23501) among all the other models I have tried with other different parameters. \n",
    "I didnot find anything unusual happening while training and searching for the models."
   ]
  },
  {
   "cell_type": "markdown",
   "metadata": {},
   "source": [
    "### QUESTION 2 - HOEFFDING BOUND"
   ]
  },
  {
   "cell_type": "code",
   "execution_count": 104,
   "metadata": {},
   "outputs": [],
   "source": [
    "def hoeffding(test_samples, confidence_interval):\n",
    "    prob = (100 - confidence_interval)/100\n",
    "    a = math.sqrt(np.log(2/prob)/(2*test_samples))\n",
    "    return a"
   ]
  },
  {
   "cell_type": "code",
   "execution_count": 105,
   "metadata": {},
   "outputs": [
    {
     "name": "stdout",
     "output_type": "stream",
     "text": [
      "200\n"
     ]
    }
   ],
   "source": [
    "test_length = len(testFeatures)\n",
    "print(test_length)"
   ]
  },
  {
   "cell_type": "code",
   "execution_count": 106,
   "metadata": {},
   "outputs": [
    {
     "name": "stdout",
     "output_type": "stream",
     "text": [
      "Hoeffding bound for test data - 95% confidence interval: 0.09603227913199208\n"
     ]
    }
   ],
   "source": [
    "confidence_interval = 95\n",
    "bound = hoeffding(test_length, confidence_interval)\n",
    "print(\"Hoeffding bound for test data - 95% confidence interval:\", bound)"
   ]
  },
  {
   "cell_type": "markdown",
   "metadata": {},
   "source": [
    "Answer: The Hoeffding bound for test data with 95% confidence interval: 0.09603. I have taken 20% of the data for testing. i.e., 20% of 1000 rows is 200 data points. So the final error on test set is test_error +/- hoeffding bound. Therefore it is 0.185+/-0.09603."
   ]
  },
  {
   "cell_type": "markdown",
   "metadata": {},
   "source": [
    "### QUESTION 3 - RANDOMNESS"
   ]
  },
  {
   "cell_type": "markdown",
   "metadata": {},
   "source": [
    "Answer:\n",
    "Point 1: Since neural networks use random weights while starting, sometimes the same model can give different results. i.e., the cross validation errors might change.\n",
    "Point 2: There may be different local minimas in our model. Due to random weights initialization, each time the model might find different local minimas and hence our result might change when we run multiple times.\n",
    "Point 3: \n"
   ]
  },
  {
   "cell_type": "markdown",
   "metadata": {},
   "source": [
    "### QUESTION 4 - MODEL NOT OVERFITTING"
   ]
  },
  {
   "cell_type": "markdown",
   "metadata": {},
   "source": [
    "Answer: I model I have choosen does not overfit the data because from the cross validation errors I can say that the errors are almost constant and also I got an accuracy of 76% which shows that the model is not overfitting. Also the test accuracy is around 82% which shows the model does a good job in predicting the test data or unseen data.\n"
   ]
  },
  {
   "cell_type": "code",
   "execution_count": null,
   "metadata": {},
   "outputs": [],
   "source": []
  }
 ],
 "metadata": {
  "kernelspec": {
   "display_name": "Python 3",
   "language": "python",
   "name": "python3"
  },
  "language_info": {
   "codemirror_mode": {
    "name": "ipython",
    "version": 3
   },
   "file_extension": ".py",
   "mimetype": "text/x-python",
   "name": "python",
   "nbconvert_exporter": "python",
   "pygments_lexer": "ipython3",
   "version": "3.7.3"
  }
 },
 "nbformat": 4,
 "nbformat_minor": 4
}
