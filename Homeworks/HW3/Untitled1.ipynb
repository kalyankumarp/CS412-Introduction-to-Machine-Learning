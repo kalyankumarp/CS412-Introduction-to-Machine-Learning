{
 "cells": [
  {
   "cell_type": "code",
   "execution_count": 27,
   "metadata": {},
   "outputs": [],
   "source": [
    "#The commented variables are suggestions so change them as appropriate,\n",
    "#However, do not change the __init__(), train(), or predict(x=[]) function headers\n",
    "#You may create additional functions as you see fit\n",
    "\n",
    "import numpy as np\n",
    "np.random.seed(100)\n",
    "\n",
    "def sigmoid(t):\n",
    "    return 1 / (1 + np.exp(-t))\n",
    "\n",
    "def sigmoid_derivative(p):\n",
    "    return sigmoid(p) * (1 -sigmoid(p))\n",
    "\n",
    "class NeuralNetwork:\n",
    "\n",
    "    #Do not change this function header\n",
    "    def __init__(self,x=[],y=[],numLayers=2,numNodes=2, numOutputs = 1, eta=0.001,maxIter=10000):\n",
    "        self.data = x\n",
    "        self.labels = y\n",
    "        self.nLayers = numLayers\n",
    "        self.nNodes = numNodes\n",
    "        self.numOutputs = numOutputs\n",
    "        self.eta = eta\n",
    "        self.maxIt = maxIter\n",
    "        #self.g = len(self.data[0])*numLayers + numLayers*numNodes + numNodes*numOutputs\n",
    "        self.weights = [{\"weights\":np.random.rand(numNodes, len(x[0]))}] #create the weights from the inputs to the first layer\n",
    "       \n",
    "        for i in range(self.nLayers-1):\n",
    "            self.weights.append({\"weights\":np.random.rand(numNodes,numNodes)}) #create the random weights between internal layers\n",
    "            \n",
    "        if self.nLayers > 0:           \n",
    "            self.weights.append({\"weights\":np.random.rand(numOutputs,numNodes)}) #create weights from final layer to output node\n",
    "        self.outputs = np.zeros(y.shape)\n",
    "\n",
    "                \n",
    "    def train(self):\n",
    "        #np.random.shuffle(self.data)\n",
    "        print(self.weights)\n",
    "        for e in  range(self.maxIt):           \n",
    "            for i in range(len(self.data)):\n",
    "                self.backprop(self.labels[i], self.data[i], self.weights, self.nLayers, self.nNodes) \n",
    "                for m in range(len(self.weights)):\n",
    "                    for j in range(len(self.weights[m]['weights'])):\n",
    "                        for k in range(len(self.weights[m]['weights'][j])):\n",
    "                            self.weights[m]['weights'][j][k] += (self.eta *self.weights[m]['g'][j][k])\n",
    "        return self.weights\n",
    "\n",
    "\n",
    "    def predict(self,x=[]):\n",
    "        prev = x\n",
    "        for j in range(self.nLayers):\n",
    "            l = []\n",
    "            s = []\n",
    "            for m in range(self.nNodes):\n",
    "                s.append(np.matmul(self.weights[j][\"weights\"][m], prev))\n",
    "            for k in s:\n",
    "                l.append(sigmoid(k))\n",
    "            prev = np.asarray(l)\n",
    "        \n",
    "        s =[]\n",
    "        p = np.matmul(self.weights[self.nLayers][\"weights\"][0], prev)\n",
    "        s.append(p)\n",
    "        q = sigmoid(p)\n",
    "        return q\n",
    "\n",
    "    def feedforward(self, data, weights, nLayers, nNodes):\n",
    "        r =[]\n",
    "        prev = data\n",
    "        r.append(prev)\n",
    "        t =[]\n",
    "        for j in range(nLayers):\n",
    "            l = []\n",
    "            s = []\n",
    "            for m in range(nNodes):\n",
    "                s.append(np.dot(weights[j][\"weights\"][m], prev))\n",
    "            \n",
    "            for k in s:\n",
    "                l.append(sigmoid(k))\n",
    "            prev = np.asarray(l)\n",
    "            t.append(s)\n",
    "            r.append(l)\n",
    "        \n",
    "        s =[]\n",
    "        p = np.dot(weights[nLayers][\"weights\"][0], prev)\n",
    "        s.append(p)\n",
    "        #p = sigmoid(p)\n",
    "        t.append(s)              \n",
    "        return t,r\n",
    "\n",
    "    def backprop(self, d, data, weights, nLayers, nNodes):\n",
    "        der = []\n",
    "        t,r = self.feedforward(data, weights, nLayers, nNodes) \n",
    "        print('\\n')\n",
    "        print(\"t = \" + str(t))\n",
    "        q = self.predict(data)\n",
    "        for i in range(nLayers):\n",
    "            a =[]\n",
    "            for m in range(nNodes):\n",
    "                a.append(sigmoid_derivative(t[i][m]))\n",
    "            der.append(a)\n",
    "        \n",
    "        diff = d-q\n",
    "        s =[]\n",
    "        s.append(sigmoid_derivative(t[nLayers][0]))\n",
    "        der.append(s)\n",
    "        print(der)\n",
    "        print(diff)\n",
    "        for i in reversed(range(len(weights))):\n",
    "            layer = weights[i]\n",
    "            errors = []\n",
    "            if i != len(weights)-1:\n",
    "                for j in range(len(layer['weights'])):\n",
    "                    error = 0                    \n",
    "                    for k in range(len(weights[i + 1]['weights'])):\n",
    "                        error += (weights[i + 1]['weights'][k][j] * weights[i + 1]['s'][k])\n",
    "                    errors.append(error)\n",
    "            else:\n",
    "                errors.append(diff)             \n",
    "            layer['s'] = []\n",
    "            for j in range(len(layer['weights'])):\n",
    "                layer['s'].append(errors[j]*der[i][j])\n",
    "        print(self.weights)\n",
    "        print(f)        \n",
    "        for j in range(len(weights)):\n",
    "            layer = weights[j]\n",
    "            layer['g'] = []\n",
    "            for k in range(len(layer['weights'])):\n",
    "                s =[]\n",
    "                for m in range(len(layer['weights'][k])):\n",
    "                    #print(self.weights[j]['s'][k])\n",
    "                    s.append((r[j][m])*layer['s'][k])\n",
    "                layer['g'].append(s)\n",
    "        #print(self.weights)\n",
    "        return 0.0\n",
    "\n",
    "\n",
    "\n"
   ]
  },
  {
   "cell_type": "code",
   "execution_count": 28,
   "metadata": {},
   "outputs": [
    {
     "data": {
      "text/plain": [
       "array([[1, 0],\n",
       "       [0, 1],\n",
       "       [0, 0],\n",
       "       [1, 1]])"
      ]
     },
     "execution_count": 28,
     "metadata": {},
     "output_type": "execute_result"
    }
   ],
   "source": [
    "x =[[1,0],[0,1],[0,0],[1,1]]\n",
    "y=[1,1,0,0]\n",
    "x = np.asarray(x)\n",
    "y = np.asarray(y)\n",
    "x"
   ]
  },
  {
   "cell_type": "code",
   "execution_count": 32,
   "metadata": {},
   "outputs": [
    {
     "name": "stdout",
     "output_type": "stream",
     "text": [
      "[{'weights': array([[0.54340494, 0.27836939],\n",
      "       [0.42451759, 0.84477613]])}, {'weights': array([[0.00471886, 0.12156912]])}]\n",
      "\n",
      "\n",
      "t = [[0.5434049417909654, 0.4245175907491331], [0.07648145303892007]]\n",
      "[[0.23241614261785784, 0.23906641953398614], [0.24963476782648977]]\n",
      "0.48088895153294264\n",
      "[{'weights': array([[0.54340494, 0.27836939],\n",
      "       [0.42451759, 0.84477613]]), 's': [0.0001316597123612952, 0.003488925723314864]}, {'weights': array([[0.00471886, 0.12156912]]), 's': [0.12004660176625023]}]\n"
     ]
    },
    {
     "ename": "NameError",
     "evalue": "name 'f' is not defined",
     "output_type": "error",
     "traceback": [
      "\u001b[1;31m---------------------------------------------------------------------------\u001b[0m",
      "\u001b[1;31mNameError\u001b[0m                                 Traceback (most recent call last)",
      "\u001b[1;32m<ipython-input-32-29bef3378e36>\u001b[0m in \u001b[0;36m<module>\u001b[1;34m\u001b[0m\n\u001b[0;32m      4\u001b[0m \u001b[0meta\u001b[0m \u001b[1;33m=\u001b[0m \u001b[1;36m0.001\u001b[0m\u001b[1;33m\u001b[0m\u001b[1;33m\u001b[0m\u001b[0m\n\u001b[0;32m      5\u001b[0m \u001b[0miter\u001b[0m \u001b[1;33m=\u001b[0m \u001b[1;36m10000\u001b[0m\u001b[1;33m\u001b[0m\u001b[1;33m\u001b[0m\u001b[0m\n\u001b[1;32m----> 6\u001b[1;33m \u001b[0mw\u001b[0m \u001b[1;33m=\u001b[0m \u001b[0mNeuralNetwork\u001b[0m\u001b[1;33m(\u001b[0m\u001b[0mx\u001b[0m\u001b[1;33m,\u001b[0m\u001b[0my\u001b[0m\u001b[1;33m,\u001b[0m \u001b[0mnLayers\u001b[0m\u001b[1;33m,\u001b[0m \u001b[0mnNodes\u001b[0m\u001b[1;33m,\u001b[0m \u001b[0mnOut\u001b[0m\u001b[1;33m,\u001b[0m \u001b[0meta\u001b[0m\u001b[1;33m,\u001b[0m \u001b[0miter\u001b[0m\u001b[1;33m)\u001b[0m\u001b[1;33m.\u001b[0m\u001b[0mtrain\u001b[0m\u001b[1;33m(\u001b[0m\u001b[1;33m)\u001b[0m\u001b[1;33m\u001b[0m\u001b[1;33m\u001b[0m\u001b[0m\n\u001b[0m",
      "\u001b[1;32m<ipython-input-27-0e2f56e3b68a>\u001b[0m in \u001b[0;36mtrain\u001b[1;34m(self)\u001b[0m\n\u001b[0;32m     39\u001b[0m         \u001b[1;32mfor\u001b[0m \u001b[0me\u001b[0m \u001b[1;32min\u001b[0m  \u001b[0mrange\u001b[0m\u001b[1;33m(\u001b[0m\u001b[0mself\u001b[0m\u001b[1;33m.\u001b[0m\u001b[0mmaxIt\u001b[0m\u001b[1;33m)\u001b[0m\u001b[1;33m:\u001b[0m\u001b[1;33m\u001b[0m\u001b[1;33m\u001b[0m\u001b[0m\n\u001b[0;32m     40\u001b[0m             \u001b[1;32mfor\u001b[0m \u001b[0mi\u001b[0m \u001b[1;32min\u001b[0m \u001b[0mrange\u001b[0m\u001b[1;33m(\u001b[0m\u001b[0mlen\u001b[0m\u001b[1;33m(\u001b[0m\u001b[0mself\u001b[0m\u001b[1;33m.\u001b[0m\u001b[0mdata\u001b[0m\u001b[1;33m)\u001b[0m\u001b[1;33m)\u001b[0m\u001b[1;33m:\u001b[0m\u001b[1;33m\u001b[0m\u001b[1;33m\u001b[0m\u001b[0m\n\u001b[1;32m---> 41\u001b[1;33m                 \u001b[0mself\u001b[0m\u001b[1;33m.\u001b[0m\u001b[0mbackprop\u001b[0m\u001b[1;33m(\u001b[0m\u001b[0mself\u001b[0m\u001b[1;33m.\u001b[0m\u001b[0mlabels\u001b[0m\u001b[1;33m[\u001b[0m\u001b[0mi\u001b[0m\u001b[1;33m]\u001b[0m\u001b[1;33m,\u001b[0m \u001b[0mself\u001b[0m\u001b[1;33m.\u001b[0m\u001b[0mdata\u001b[0m\u001b[1;33m[\u001b[0m\u001b[0mi\u001b[0m\u001b[1;33m]\u001b[0m\u001b[1;33m,\u001b[0m \u001b[0mself\u001b[0m\u001b[1;33m.\u001b[0m\u001b[0mweights\u001b[0m\u001b[1;33m,\u001b[0m \u001b[0mself\u001b[0m\u001b[1;33m.\u001b[0m\u001b[0mnLayers\u001b[0m\u001b[1;33m,\u001b[0m \u001b[0mself\u001b[0m\u001b[1;33m.\u001b[0m\u001b[0mnNodes\u001b[0m\u001b[1;33m)\u001b[0m\u001b[1;33m\u001b[0m\u001b[1;33m\u001b[0m\u001b[0m\n\u001b[0m\u001b[0;32m     42\u001b[0m                 \u001b[1;32mfor\u001b[0m \u001b[0mm\u001b[0m \u001b[1;32min\u001b[0m \u001b[0mrange\u001b[0m\u001b[1;33m(\u001b[0m\u001b[0mlen\u001b[0m\u001b[1;33m(\u001b[0m\u001b[0mself\u001b[0m\u001b[1;33m.\u001b[0m\u001b[0mweights\u001b[0m\u001b[1;33m)\u001b[0m\u001b[1;33m)\u001b[0m\u001b[1;33m:\u001b[0m\u001b[1;33m\u001b[0m\u001b[1;33m\u001b[0m\u001b[0m\n\u001b[0;32m     43\u001b[0m                     \u001b[1;32mfor\u001b[0m \u001b[0mj\u001b[0m \u001b[1;32min\u001b[0m \u001b[0mrange\u001b[0m\u001b[1;33m(\u001b[0m\u001b[0mlen\u001b[0m\u001b[1;33m(\u001b[0m\u001b[0mself\u001b[0m\u001b[1;33m.\u001b[0m\u001b[0mweights\u001b[0m\u001b[1;33m[\u001b[0m\u001b[0mm\u001b[0m\u001b[1;33m]\u001b[0m\u001b[1;33m[\u001b[0m\u001b[1;34m'weights'\u001b[0m\u001b[1;33m]\u001b[0m\u001b[1;33m)\u001b[0m\u001b[1;33m)\u001b[0m\u001b[1;33m:\u001b[0m\u001b[1;33m\u001b[0m\u001b[1;33m\u001b[0m\u001b[0m\n",
      "\u001b[1;32m<ipython-input-27-0e2f56e3b68a>\u001b[0m in \u001b[0;36mbackprop\u001b[1;34m(self, d, data, weights, nLayers, nNodes)\u001b[0m\n\u001b[0;32m    121\u001b[0m                 \u001b[0mlayer\u001b[0m\u001b[1;33m[\u001b[0m\u001b[1;34m's'\u001b[0m\u001b[1;33m]\u001b[0m\u001b[1;33m.\u001b[0m\u001b[0mappend\u001b[0m\u001b[1;33m(\u001b[0m\u001b[0merrors\u001b[0m\u001b[1;33m[\u001b[0m\u001b[0mj\u001b[0m\u001b[1;33m]\u001b[0m\u001b[1;33m*\u001b[0m\u001b[0mder\u001b[0m\u001b[1;33m[\u001b[0m\u001b[0mi\u001b[0m\u001b[1;33m]\u001b[0m\u001b[1;33m[\u001b[0m\u001b[0mj\u001b[0m\u001b[1;33m]\u001b[0m\u001b[1;33m)\u001b[0m\u001b[1;33m\u001b[0m\u001b[1;33m\u001b[0m\u001b[0m\n\u001b[0;32m    122\u001b[0m         \u001b[0mprint\u001b[0m\u001b[1;33m(\u001b[0m\u001b[0mself\u001b[0m\u001b[1;33m.\u001b[0m\u001b[0mweights\u001b[0m\u001b[1;33m)\u001b[0m\u001b[1;33m\u001b[0m\u001b[1;33m\u001b[0m\u001b[0m\n\u001b[1;32m--> 123\u001b[1;33m         \u001b[0mprint\u001b[0m\u001b[1;33m(\u001b[0m\u001b[0mf\u001b[0m\u001b[1;33m)\u001b[0m\u001b[1;33m\u001b[0m\u001b[1;33m\u001b[0m\u001b[0m\n\u001b[0m\u001b[0;32m    124\u001b[0m         \u001b[1;32mfor\u001b[0m \u001b[0mj\u001b[0m \u001b[1;32min\u001b[0m \u001b[0mrange\u001b[0m\u001b[1;33m(\u001b[0m\u001b[0mlen\u001b[0m\u001b[1;33m(\u001b[0m\u001b[0mweights\u001b[0m\u001b[1;33m)\u001b[0m\u001b[1;33m)\u001b[0m\u001b[1;33m:\u001b[0m\u001b[1;33m\u001b[0m\u001b[1;33m\u001b[0m\u001b[0m\n\u001b[0;32m    125\u001b[0m             \u001b[0mlayer\u001b[0m \u001b[1;33m=\u001b[0m \u001b[0mweights\u001b[0m\u001b[1;33m[\u001b[0m\u001b[0mj\u001b[0m\u001b[1;33m]\u001b[0m\u001b[1;33m\u001b[0m\u001b[1;33m\u001b[0m\u001b[0m\n",
      "\u001b[1;31mNameError\u001b[0m: name 'f' is not defined"
     ]
    }
   ],
   "source": [
    "nLayers = 1\n",
    "nNodes = 2\n",
    "nOut = 1\n",
    "eta = 0.001\n",
    "iter = 10000\n",
    "w = NeuralNetwork(x,y, nLayers, nNodes, nOut, eta, iter).train()"
   ]
  },
  {
   "cell_type": "code",
   "execution_count": 113,
   "metadata": {},
   "outputs": [
    {
     "data": {
      "text/plain": [
       "0.5219109581721073"
      ]
     },
     "execution_count": 113,
     "metadata": {},
     "output_type": "execute_result"
    }
   ],
   "source": [
    "sigmoid(0.0877)"
   ]
  },
  {
   "cell_type": "code",
   "execution_count": 114,
   "metadata": {},
   "outputs": [
    {
     "data": {
      "text/plain": [
       "0.24952753362907423"
      ]
     },
     "execution_count": 114,
     "metadata": {},
     "output_type": "execute_result"
    }
   ],
   "source": [
    "sigmoid_derivative(0.087)"
   ]
  },
  {
   "cell_type": "code",
   "execution_count": 7,
   "metadata": {},
   "outputs": [
    {
     "data": {
      "text/plain": [
       "[{'weights': array([[0.54291446, 0.27743406],\n",
       "         [0.43136438, 0.84816699]]),\n",
       "  's': [0.0013633745626836168, -0.0017432027230460192],\n",
       "  'g': [[0.0013633745626836168, 0.0013633745626836168],\n",
       "   [-0.0017432027230460192, -0.0017432027230460192]]},\n",
       " {'weights': array([[-0.05077715,  0.08068993]]),\n",
       "  's': [-0.12672583577879978],\n",
       "  'g': [[-0.08798698194685727, -0.09914656663957762]]}]"
      ]
     },
     "execution_count": 7,
     "metadata": {},
     "output_type": "execute_result"
    }
   ],
   "source": [
    "w"
   ]
  },
  {
   "cell_type": "code",
   "execution_count": 116,
   "metadata": {},
   "outputs": [
    {
     "data": {
      "text/plain": [
       "[0.5429144636858182,\n",
       " 0.2774340628008417,\n",
       " 0.4313643776345063,\n",
       " 0.8481669900361507,\n",
       " -0.050777154966610206,\n",
       " 0.08068992685928504]"
      ]
     },
     "execution_count": 116,
     "metadata": {},
     "output_type": "execute_result"
    }
   ],
   "source": [
    "weights =[]\n",
    "for j in range(len(w)):\n",
    "    for k in range(len(w[j]['weights'])):\n",
    "        for m in range(len(w[j]['weights'][k])):\n",
    "            weights.append(w[j]['weights'][k][m])\n",
    "\n",
    "weights"
   ]
  },
  {
   "cell_type": "code",
   "execution_count": 117,
   "metadata": {},
   "outputs": [],
   "source": [
    "def predict(x,w):\n",
    "        #Do not change this function header\n",
    "        #print('\\n')\n",
    "        #print(\"Predict Function\")\n",
    "    prev = x\n",
    "    for j in range(nLayers):\n",
    "        l = []\n",
    "        s = []\n",
    "        for m in range(nNodes):\n",
    "            s.append(np.matmul(w[j][\"weights\"][m], prev))\n",
    "        for k in s:\n",
    "            l.append(sigmoid(k))\n",
    "        prev = np.asarray(l)\n",
    "    s =[]\n",
    "    for n in range(nOut):\n",
    "\n",
    "        p = np.dot(prev,w[nLayers][\"weights\"][n])\n",
    "        s.append(p)\n",
    "    q = []\n",
    "    for i in range(len(s)):\n",
    "        q.append(sigmoid(s[i]))\n",
    "    return q"
   ]
  },
  {
   "cell_type": "code",
   "execution_count": 118,
   "metadata": {},
   "outputs": [
    {
     "name": "stdout",
     "output_type": "stream",
     "text": [
      "(3, 2)\n",
      "(1, 3)\n"
     ]
    },
    {
     "data": {
      "text/plain": [
       "matrix([[ 5, 14]])"
      ]
     },
     "execution_count": 118,
     "metadata": {},
     "output_type": "execute_result"
    }
   ],
   "source": [
    "a = np.transpose(np.mat([[0,1,2],[3,4,5]]))\n",
    "print(a.shape)\n",
    "b = np.mat([0,1,2])\n",
    "print(b.shape)\n",
    "np.matmul(b,a)"
   ]
  },
  {
   "cell_type": "code",
   "execution_count": 119,
   "metadata": {},
   "outputs": [
    {
     "data": {
      "text/plain": [
       "[[0.5037390267871845],\n",
       " [0.5069019827914016],\n",
       " [0.5041994356041513],\n",
       " [0.506968117590431]]"
      ]
     },
     "execution_count": 119,
     "metadata": {},
     "output_type": "execute_result"
    }
   ],
   "source": [
    "p = []\n",
    "for i in x:\n",
    "    p.append(predict(i,w))\n",
    "p"
   ]
  },
  {
   "cell_type": "code",
   "execution_count": null,
   "metadata": {},
   "outputs": [],
   "source": []
  },
  {
   "cell_type": "code",
   "execution_count": null,
   "metadata": {},
   "outputs": [],
   "source": []
  }
 ],
 "metadata": {
  "kernelspec": {
   "display_name": "Python 3",
   "language": "python",
   "name": "python3"
  },
  "language_info": {
   "codemirror_mode": {
    "name": "ipython",
    "version": 3
   },
   "file_extension": ".py",
   "mimetype": "text/x-python",
   "name": "python",
   "nbconvert_exporter": "python",
   "pygments_lexer": "ipython3",
   "version": "3.7.3"
  }
 },
 "nbformat": 4,
 "nbformat_minor": 4
}
