{
 "cells": [
  {
   "cell_type": "code",
   "execution_count": 1,
   "metadata": {
    "colab": {},
    "colab_type": "code",
    "id": "wztiovmukSuM"
   },
   "outputs": [],
   "source": [
    "import os\n",
    "import numpy as np\n",
    "import pandas as pd\n",
    "import matplotlib.pyplot as plt\n",
    "from sklearn import metrics"
   ]
  },
  {
   "cell_type": "code",
   "execution_count": 2,
   "metadata": {
    "colab": {},
    "colab_type": "code",
    "id": "qer3pqsq4IRP"
   },
   "outputs": [],
   "source": [
    "import tensorflow as tf\n",
    "\n",
    "from tensorflow.keras import Sequential\n",
    "\n",
    "from tensorflow.keras.layers import Input\n",
    "from tensorflow.keras.layers import Conv3D\n",
    "from tensorflow.keras.layers import BatchNormalization\n",
    "from tensorflow.keras.layers import LeakyReLU\n",
    "from tensorflow.keras.layers import MaxPool3D\n",
    "from tensorflow.keras.layers import Dropout\n",
    "from tensorflow.keras.layers import AveragePooling3D\n",
    "from tensorflow.keras.layers import Dense\n",
    "from tensorflow.keras.layers import Flatten"
   ]
  },
  {
   "cell_type": "code",
   "execution_count": 3,
   "metadata": {
    "colab": {},
    "colab_type": "code",
    "id": "80I6XDrnkZqb"
   },
   "outputs": [],
   "source": [
    "data_path = 'data'\n",
    "labels = pd.read_csv(os.path.join(data_path, 'adni_demographic_master_kaggle.csv'))"
   ]
  },
  {
   "cell_type": "code",
   "execution_count": 4,
   "metadata": {
    "colab": {},
    "colab_type": "code",
    "id": "RZTvzyv0kVTc"
   },
   "outputs": [],
   "source": [
    "def load_datasets(type: str):\n",
    "    if type not in ['train', 'test', 'valid']: raise Exception('Unsupported dataset type')\n",
    "    train_valid_test = 0 if type == 'train' else 1 if type == 'valid' else 2\n",
    "    i = 1\n",
    "    dataset = np.load(os.path.join(data_path, f'img_array_{type}_6k_{i}.npy'))\n",
    "    while True:\n",
    "        try:\n",
    "            i += 1\n",
    "            dataset = np.vstack((dataset, np.load(os.path.join(data_path, f'img_array_{type}_6k_{i}.npy'))))\n",
    "        except FileNotFoundError:\n",
    "            print(f'Loaded all {type} datasets')\n",
    "            break\n",
    "    # dataset = np.expand_dims(dataset, axis=1)\n",
    "    dataset = np.reshape(dataset, (-1, 62, 96, 96, 1))\n",
    "    for i in range(dataset.shape[0]):\n",
    "        dataset[i] = dataset[i]/np.amax(dataset[i])\n",
    "    return dataset, np.eye(3)[labels[labels.train_valid_test == train_valid_test].diagnosis - 1]"
   ]
  },
  {
   "cell_type": "code",
   "execution_count": 6,
   "metadata": {
    "colab": {
     "base_uri": "https://localhost:8080/",
     "height": 34
    },
    "colab_type": "code",
    "executionInfo": {
     "elapsed": 15649,
     "status": "ok",
     "timestamp": 1587918655182,
     "user": {
      "displayName": "Vignesh Narayanaswamy",
      "photoUrl": "",
      "userId": "06329279500311719057"
     },
     "user_tz": 300
    },
    "id": "gAihbipreard",
    "outputId": "44abcce2-8e69-47ec-b1d9-00a2c44b3ea7"
   },
   "outputs": [
    {
     "ename": "MemoryError",
     "evalue": "",
     "output_type": "error",
     "traceback": [
      "\u001b[1;31m---------------------------------------------------------------------------\u001b[0m",
      "\u001b[1;31mMemoryError\u001b[0m                               Traceback (most recent call last)",
      "\u001b[1;32m<ipython-input-6-eb51a13dfbb0>\u001b[0m in \u001b[0;36m<module>\u001b[1;34m\u001b[0m\n\u001b[1;32m----> 1\u001b[1;33m \u001b[0mtest_data\u001b[0m\u001b[1;33m,\u001b[0m \u001b[0mtest_labels\u001b[0m \u001b[1;33m=\u001b[0m \u001b[0mload_datasets\u001b[0m\u001b[1;33m(\u001b[0m\u001b[1;34m'test'\u001b[0m\u001b[1;33m)\u001b[0m\u001b[1;33m\u001b[0m\u001b[1;33m\u001b[0m\u001b[0m\n\u001b[0m\u001b[0;32m      2\u001b[0m \u001b[0mtrain_data\u001b[0m\u001b[1;33m,\u001b[0m \u001b[0mtrain_labels\u001b[0m \u001b[1;33m=\u001b[0m \u001b[0mload_datasets\u001b[0m\u001b[1;33m(\u001b[0m\u001b[1;34m'train'\u001b[0m\u001b[1;33m)\u001b[0m\u001b[1;33m\u001b[0m\u001b[1;33m\u001b[0m\u001b[0m\n\u001b[0;32m      3\u001b[0m \u001b[0mvalid_data\u001b[0m\u001b[1;33m,\u001b[0m \u001b[0mvalid_labels\u001b[0m \u001b[1;33m=\u001b[0m \u001b[0mload_datasets\u001b[0m\u001b[1;33m(\u001b[0m\u001b[1;34m'valid'\u001b[0m\u001b[1;33m)\u001b[0m\u001b[1;33m\u001b[0m\u001b[1;33m\u001b[0m\u001b[0m\n",
      "\u001b[1;32m<ipython-input-4-8a63332c7b7e>\u001b[0m in \u001b[0;36mload_datasets\u001b[1;34m(type)\u001b[0m\n\u001b[0;32m      7\u001b[0m         \u001b[1;32mtry\u001b[0m\u001b[1;33m:\u001b[0m\u001b[1;33m\u001b[0m\u001b[1;33m\u001b[0m\u001b[0m\n\u001b[0;32m      8\u001b[0m             \u001b[0mi\u001b[0m \u001b[1;33m+=\u001b[0m \u001b[1;36m1\u001b[0m\u001b[1;33m\u001b[0m\u001b[1;33m\u001b[0m\u001b[0m\n\u001b[1;32m----> 9\u001b[1;33m             \u001b[0mdataset\u001b[0m \u001b[1;33m=\u001b[0m \u001b[0mnp\u001b[0m\u001b[1;33m.\u001b[0m\u001b[0mvstack\u001b[0m\u001b[1;33m(\u001b[0m\u001b[1;33m(\u001b[0m\u001b[0mdataset\u001b[0m\u001b[1;33m,\u001b[0m \u001b[0mnp\u001b[0m\u001b[1;33m.\u001b[0m\u001b[0mload\u001b[0m\u001b[1;33m(\u001b[0m\u001b[0mos\u001b[0m\u001b[1;33m.\u001b[0m\u001b[0mpath\u001b[0m\u001b[1;33m.\u001b[0m\u001b[0mjoin\u001b[0m\u001b[1;33m(\u001b[0m\u001b[0mdata_path\u001b[0m\u001b[1;33m,\u001b[0m \u001b[1;34mf'img_array_{type}_6k_{i}.npy'\u001b[0m\u001b[1;33m)\u001b[0m\u001b[1;33m)\u001b[0m\u001b[1;33m)\u001b[0m\u001b[1;33m)\u001b[0m\u001b[1;33m\u001b[0m\u001b[1;33m\u001b[0m\u001b[0m\n\u001b[0m\u001b[0;32m     10\u001b[0m         \u001b[1;32mexcept\u001b[0m \u001b[0mFileNotFoundError\u001b[0m\u001b[1;33m:\u001b[0m\u001b[1;33m\u001b[0m\u001b[1;33m\u001b[0m\u001b[0m\n\u001b[0;32m     11\u001b[0m             \u001b[0mprint\u001b[0m\u001b[1;33m(\u001b[0m\u001b[1;34mf'Loaded all {type} datasets'\u001b[0m\u001b[1;33m)\u001b[0m\u001b[1;33m\u001b[0m\u001b[1;33m\u001b[0m\u001b[0m\n",
      "\u001b[1;32m~\\Anaconda3\\lib\\site-packages\\numpy\\core\\shape_base.py\u001b[0m in \u001b[0;36mvstack\u001b[1;34m(tup)\u001b[0m\n\u001b[0;32m    281\u001b[0m     \"\"\"\n\u001b[0;32m    282\u001b[0m     \u001b[0m_warn_for_nonsequence\u001b[0m\u001b[1;33m(\u001b[0m\u001b[0mtup\u001b[0m\u001b[1;33m)\u001b[0m\u001b[1;33m\u001b[0m\u001b[1;33m\u001b[0m\u001b[0m\n\u001b[1;32m--> 283\u001b[1;33m     \u001b[1;32mreturn\u001b[0m \u001b[0m_nx\u001b[0m\u001b[1;33m.\u001b[0m\u001b[0mconcatenate\u001b[0m\u001b[1;33m(\u001b[0m\u001b[1;33m[\u001b[0m\u001b[0matleast_2d\u001b[0m\u001b[1;33m(\u001b[0m\u001b[0m_m\u001b[0m\u001b[1;33m)\u001b[0m \u001b[1;32mfor\u001b[0m \u001b[0m_m\u001b[0m \u001b[1;32min\u001b[0m \u001b[0mtup\u001b[0m\u001b[1;33m]\u001b[0m\u001b[1;33m,\u001b[0m \u001b[1;36m0\u001b[0m\u001b[1;33m)\u001b[0m\u001b[1;33m\u001b[0m\u001b[1;33m\u001b[0m\u001b[0m\n\u001b[0m\u001b[0;32m    284\u001b[0m \u001b[1;33m\u001b[0m\u001b[0m\n\u001b[0;32m    285\u001b[0m \u001b[1;33m\u001b[0m\u001b[0m\n",
      "\u001b[1;31mMemoryError\u001b[0m: "
     ]
    }
   ],
   "source": [
    "test_data, test_labels = load_datasets('test')\n",
    "train_data, train_labels = load_datasets('train')\n",
    "valid_data, valid_labels = load_datasets('valid')"
   ]
  },
  {
   "cell_type": "code",
   "execution_count": null,
   "metadata": {},
   "outputs": [],
   "source": []
  },
  {
   "cell_type": "code",
   "execution_count": 17,
   "metadata": {},
   "outputs": [
    {
     "data": {
      "text/plain": [
       "(469, 62, 96, 96, 1)"
      ]
     },
     "execution_count": 17,
     "metadata": {},
     "output_type": "execute_result"
    }
   ],
   "source": [
    "t = np.asarray(test_data)\n",
    "t.shape"
   ]
  },
  {
   "cell_type": "code",
   "execution_count": 18,
   "metadata": {},
   "outputs": [],
   "source": [
    "# data_test = pd.DataFrame(t)\n",
    "# data_test.head()"
   ]
  },
  {
   "cell_type": "code",
   "execution_count": 19,
   "metadata": {
    "colab": {},
    "colab_type": "code",
    "id": "IS8VwVk9xEHb"
   },
   "outputs": [],
   "source": [
    "def create_model():\n",
    "    kernel_regularizer = tf.keras.regularizers.l2(0.001)\n",
    "    he_normal = tf.keras.initializers.he_normal(seed=0)\n",
    "    lecun_normal = tf.keras.initializers.lecun_normal(seed=0)\n",
    "\n",
    "    input_3d = (62, 96, 96, 1)\n",
    "    pool_3d = (2, 2, 2)\n",
    "\n",
    "    model = Sequential()\n",
    "    \n",
    "    model.add(tf.keras.layers.InputLayer(input_shape=input_3d))\n",
    "    model.add(Conv3D(filters=8,\n",
    "                     kernel_size=3,\n",
    "                     kernel_regularizer=kernel_regularizer,\n",
    "                     kernel_initializer=he_normal))\n",
    "    model.add(BatchNormalization())\n",
    "    model.add(LeakyReLU())\n",
    "    model.add(MaxPool3D(pool_size=pool_3d, name='pool1'))\n",
    "\n",
    "    model.add(Conv3D(filters=8,\n",
    "                     kernel_size=3,\n",
    "                     kernel_regularizer=kernel_regularizer,\n",
    "                     kernel_initializer=he_normal))\n",
    "    model.add(BatchNormalization())\n",
    "    model.add(LeakyReLU())\n",
    "    model.add(MaxPool3D(pool_size=pool_3d, name='pool2'))\n",
    "\n",
    "    model.add(Conv3D(filters=8,\n",
    "                     kernel_size=3,\n",
    "                     kernel_regularizer=kernel_regularizer,\n",
    "                     kernel_initializer=he_normal))\n",
    "    model.add(BatchNormalization())\n",
    "    model.add(LeakyReLU())\n",
    "    model.add(MaxPool3D(pool_size=pool_3d, name='pool3'))\n",
    "\n",
    "    model.add(Flatten())\n",
    "    model.add(Dense(1024, name='dense1', kernel_regularizer=kernel_regularizer, kernel_initializer=he_normal))\n",
    "    model.add(LeakyReLU())\n",
    "    model.add(Dropout(0.5, name='dropout1'))\n",
    "\n",
    "    model.add(Dense(512, activation='relu', name='dense2', kernel_regularizer=kernel_regularizer, kernel_initializer=he_normal))\n",
    "    model.add(LeakyReLU())\n",
    "    model.add(Dropout(0.5, name='dropout2'))\n",
    "\n",
    "    model.add(Dense(3, activation='softmax', name='softmax', kernel_initializer=lecun_normal))\n",
    "\n",
    "    model.compile(loss='categorical_crossentropy',\n",
    "                  optimizer=tf.keras.optimizers.Adam(),\n",
    "                  metrics=[tf.keras.metrics.CategoricalAccuracy()])\n",
    "\n",
    "    return model"
   ]
  },
  {
   "cell_type": "code",
   "execution_count": 20,
   "metadata": {
    "colab": {},
    "colab_type": "code",
    "id": "CW5lyUgP5g1D"
   },
   "outputs": [],
   "source": [
    "reducelr_callback = tf.keras.callbacks.ReduceLROnPlateau(monitor='val_categorical_accuracy',\n",
    "                                                         factor=0.2,\n",
    "                                                         patience=5,\n",
    "                                                         min_delta=0.01,\n",
    "                                                         verbose=1)\n",
    "checkpoint_callback = tf.keras.callbacks.ModelCheckpoint(os.path.join('weights', 'best_weights.h5'),\n",
    "                                                         monitor='val_categorical_accuracy',\n",
    "                                                         verbose=1,\n",
    "                                                         save_best_only=True,\n",
    "                                                         mode='max')\n",
    "\n",
    "callbacks_list = [checkpoint_callback, reducelr_callback]"
   ]
  },
  {
   "cell_type": "code",
   "execution_count": 21,
   "metadata": {
    "colab": {
     "base_uri": "https://localhost:8080/",
     "height": 833
    },
    "colab_type": "code",
    "executionInfo": {
     "elapsed": 17069,
     "status": "ok",
     "timestamp": 1587918656675,
     "user": {
      "displayName": "Vignesh Narayanaswamy",
      "photoUrl": "",
      "userId": "06329279500311719057"
     },
     "user_tz": 300
    },
    "id": "qmAKVJXH60zF",
    "outputId": "e7350d91-d8ab-4252-c8c8-923360813169"
   },
   "outputs": [
    {
     "name": "stdout",
     "output_type": "stream",
     "text": [
      "Model: \"sequential\"\n",
      "_________________________________________________________________\n",
      "Layer (type)                 Output Shape              Param #   \n",
      "=================================================================\n",
      "conv3d (Conv3D)              (None, 60, 94, 94, 8)     224       \n",
      "_________________________________________________________________\n",
      "batch_normalization (BatchNo (None, 60, 94, 94, 8)     32        \n",
      "_________________________________________________________________\n",
      "leaky_re_lu (LeakyReLU)      (None, 60, 94, 94, 8)     0         \n",
      "_________________________________________________________________\n",
      "pool1 (MaxPooling3D)         (None, 30, 47, 47, 8)     0         \n",
      "_________________________________________________________________\n",
      "conv3d_1 (Conv3D)            (None, 28, 45, 45, 8)     1736      \n",
      "_________________________________________________________________\n",
      "batch_normalization_1 (Batch (None, 28, 45, 45, 8)     32        \n",
      "_________________________________________________________________\n",
      "leaky_re_lu_1 (LeakyReLU)    (None, 28, 45, 45, 8)     0         \n",
      "_________________________________________________________________\n",
      "pool2 (MaxPooling3D)         (None, 14, 22, 22, 8)     0         \n",
      "_________________________________________________________________\n",
      "conv3d_2 (Conv3D)            (None, 12, 20, 20, 8)     1736      \n",
      "_________________________________________________________________\n",
      "batch_normalization_2 (Batch (None, 12, 20, 20, 8)     32        \n",
      "_________________________________________________________________\n",
      "leaky_re_lu_2 (LeakyReLU)    (None, 12, 20, 20, 8)     0         \n",
      "_________________________________________________________________\n",
      "pool3 (MaxPooling3D)         (None, 6, 10, 10, 8)      0         \n",
      "_________________________________________________________________\n",
      "flatten (Flatten)            (None, 4800)              0         \n",
      "_________________________________________________________________\n",
      "dense1 (Dense)               (None, 1024)              4916224   \n",
      "_________________________________________________________________\n",
      "leaky_re_lu_3 (LeakyReLU)    (None, 1024)              0         \n",
      "_________________________________________________________________\n",
      "dropout1 (Dropout)           (None, 1024)              0         \n",
      "_________________________________________________________________\n",
      "dense2 (Dense)               (None, 512)               524800    \n",
      "_________________________________________________________________\n",
      "leaky_re_lu_4 (LeakyReLU)    (None, 512)               0         \n",
      "_________________________________________________________________\n",
      "dropout2 (Dropout)           (None, 512)               0         \n",
      "_________________________________________________________________\n",
      "softmax (Dense)              (None, 3)                 1539      \n",
      "=================================================================\n",
      "Total params: 5,446,355\n",
      "Trainable params: 5,446,307\n",
      "Non-trainable params: 48\n",
      "_________________________________________________________________\n"
     ]
    }
   ],
   "source": [
    "model = create_model()\n",
    "model.summary()"
   ]
  },
  {
   "cell_type": "code",
   "execution_count": 22,
   "metadata": {
    "colab": {
     "base_uri": "https://localhost:8080/",
     "height": 1000
    },
    "colab_type": "code",
    "executionInfo": {
     "elapsed": 197552,
     "status": "ok",
     "timestamp": 1587918837178,
     "user": {
      "displayName": "Vignesh Narayanaswamy",
      "photoUrl": "",
      "userId": "06329279500311719057"
     },
     "user_tz": 300
    },
    "id": "2PifXd3U7AQW",
    "outputId": "e0068cb0-ef3b-4672-f712-c4b2b84aa627"
   },
   "outputs": [
    {
     "name": "stdout",
     "output_type": "stream",
     "text": [
      "Train on 2109 samples, validate on 435 samples\n",
      "Epoch 1/25\n",
      "2080/2109 [============================>.] - ETA: 23s - loss: 7.1776 - categorical_accuracy: 0.3567\n",
      "Epoch 00001: val_categorical_accuracy improved from -inf to 0.36782, saving model to weights\\best_weights.h5\n",
      "2109/2109 [==============================] - 1801s 854ms/sample - loss: 7.1376 - categorical_accuracy: 0.3580 - val_loss: 4.1515 - val_categorical_accuracy: 0.3678\n",
      "Epoch 2/25\n",
      "2080/2109 [============================>.] - ETA: 23s - loss: 4.0956 - categorical_accuracy: 0.3995\n",
      "Epoch 00002: val_categorical_accuracy did not improve from 0.36782\n",
      "2109/2109 [==============================] - 1739s 824ms/sample - loss: 4.0954 - categorical_accuracy: 0.3988 - val_loss: 3.9175 - val_categorical_accuracy: 0.3011\n",
      "Epoch 3/25\n",
      "2080/2109 [============================>.] - ETA: 22s - loss: 3.7770 - categorical_accuracy: 0.4087\n",
      "Epoch 00003: val_categorical_accuracy did not improve from 0.36782\n",
      "2109/2109 [==============================] - 1731s 821ms/sample - loss: 3.7756 - categorical_accuracy: 0.4078 - val_loss: 3.6605 - val_categorical_accuracy: 0.3011\n",
      "Epoch 4/25\n",
      "2080/2109 [============================>.] - ETA: 22s - loss: 3.5113 - categorical_accuracy: 0.4187\n",
      "Epoch 00004: val_categorical_accuracy did not improve from 0.36782\n",
      "2109/2109 [==============================] - 1688s 800ms/sample - loss: 3.5091 - categorical_accuracy: 0.4187 - val_loss: 3.3847 - val_categorical_accuracy: 0.3011\n",
      "Epoch 5/25\n",
      "2080/2109 [============================>.] - ETA: 22s - loss: 3.2517 - categorical_accuracy: 0.4322\n",
      "Epoch 00005: val_categorical_accuracy did not improve from 0.36782\n",
      "2109/2109 [==============================] - 1715s 813ms/sample - loss: 3.2500 - categorical_accuracy: 0.4315 - val_loss: 3.1621 - val_categorical_accuracy: 0.3034\n",
      "Epoch 6/25\n",
      "2080/2109 [============================>.] - ETA: 22s - loss: 3.0151 - categorical_accuracy: 0.4462\n",
      "Epoch 00006: val_categorical_accuracy did not improve from 0.36782\n",
      "\n",
      "Epoch 00006: ReduceLROnPlateau reducing learning rate to 0.00020000000949949026.\n",
      "2109/2109 [==============================] - 1712s 812ms/sample - loss: 3.0141 - categorical_accuracy: 0.4452 - val_loss: 2.9726 - val_categorical_accuracy: 0.2989\n",
      "Epoch 7/25\n",
      "2080/2109 [============================>.] - ETA: 22s - loss: 2.8797 - categorical_accuracy: 0.4721\n",
      "Epoch 00007: val_categorical_accuracy did not improve from 0.36782\n",
      "2109/2109 [==============================] - 1700s 806ms/sample - loss: 2.8788 - categorical_accuracy: 0.4723 - val_loss: 3.0828 - val_categorical_accuracy: 0.3034\n",
      "Epoch 8/25\n",
      "2080/2109 [============================>.] - ETA: 22s - loss: 2.8085 - categorical_accuracy: 0.4913\n",
      "Epoch 00008: val_categorical_accuracy did not improve from 0.36782\n",
      "2109/2109 [==============================] - 1716s 814ms/sample - loss: 2.8082 - categorical_accuracy: 0.4908 - val_loss: 3.6714 - val_categorical_accuracy: 0.3011\n",
      "Epoch 9/25\n",
      "2080/2109 [============================>.] - ETA: 22s - loss: 2.7409 - categorical_accuracy: 0.5212\n",
      "Epoch 00009: val_categorical_accuracy did not improve from 0.36782\n",
      "2109/2109 [==============================] - 1692s 802ms/sample - loss: 2.7395 - categorical_accuracy: 0.5206 - val_loss: 3.3811 - val_categorical_accuracy: 0.3011\n",
      "Epoch 10/25\n",
      "2080/2109 [============================>.] - ETA: 22s - loss: 2.7046 - categorical_accuracy: 0.5183\n",
      "Epoch 00010: val_categorical_accuracy did not improve from 0.36782\n",
      "2109/2109 [==============================] - 1698s 805ms/sample - loss: 2.7048 - categorical_accuracy: 0.5173 - val_loss: 2.8705 - val_categorical_accuracy: 0.3563\n",
      "Epoch 11/25\n",
      "2080/2109 [============================>.] - ETA: 23s - loss: 2.6431 - categorical_accuracy: 0.5288\n",
      "Epoch 00011: val_categorical_accuracy improved from 0.36782 to 0.38851, saving model to weights\\best_weights.h5\n",
      "2109/2109 [==============================] - 1758s 834ms/sample - loss: 2.6438 - categorical_accuracy: 0.5282 - val_loss: 2.7793 - val_categorical_accuracy: 0.3885\n",
      "Epoch 12/25\n",
      "2080/2109 [============================>.] - ETA: 22s - loss: 2.5826 - categorical_accuracy: 0.5337\n",
      "Epoch 00012: val_categorical_accuracy did not improve from 0.38851\n",
      "2109/2109 [==============================] - 1709s 810ms/sample - loss: 2.5831 - categorical_accuracy: 0.5330 - val_loss: 2.7718 - val_categorical_accuracy: 0.3655\n",
      "Epoch 13/25\n",
      "2080/2109 [============================>.] - ETA: 22s - loss: 2.5275 - categorical_accuracy: 0.5365\n",
      "Epoch 00013: val_categorical_accuracy did not improve from 0.38851\n",
      "2109/2109 [==============================] - 1708s 810ms/sample - loss: 2.5274 - categorical_accuracy: 0.5372 - val_loss: 2.6096 - val_categorical_accuracy: 0.3862\n",
      "Epoch 14/25\n",
      "2080/2109 [============================>.] - ETA: 22s - loss: 2.4866 - categorical_accuracy: 0.5577\n",
      "Epoch 00014: val_categorical_accuracy improved from 0.38851 to 0.39770, saving model to weights\\best_weights.h5\n",
      "2109/2109 [==============================] - 1685s 799ms/sample - loss: 2.4860 - categorical_accuracy: 0.5590 - val_loss: 2.5477 - val_categorical_accuracy: 0.3977\n",
      "Epoch 15/25\n",
      "2080/2109 [============================>.] - ETA: 21s - loss: 2.4023 - categorical_accuracy: 0.5817\n",
      "Epoch 00015: val_categorical_accuracy improved from 0.39770 to 0.41379, saving model to weights\\best_weights.h5\n",
      "2109/2109 [==============================] - 1647s 781ms/sample - loss: 2.4021 - categorical_accuracy: 0.5823 - val_loss: 2.5916 - val_categorical_accuracy: 0.4138\n",
      "Epoch 16/25\n",
      "2080/2109 [============================>.] - ETA: 21s - loss: 2.3152 - categorical_accuracy: 0.6014\n",
      "Epoch 00016: val_categorical_accuracy did not improve from 0.41379\n",
      "2109/2109 [==============================] - 1629s 773ms/sample - loss: 2.3160 - categorical_accuracy: 0.6008 - val_loss: 2.7657 - val_categorical_accuracy: 0.3448\n",
      "Epoch 17/25\n",
      "2080/2109 [============================>.] - ETA: 21s - loss: 2.2177 - categorical_accuracy: 0.6288\n",
      "Epoch 00017: val_categorical_accuracy improved from 0.41379 to 0.46437, saving model to weights\\best_weights.h5\n",
      "2109/2109 [==============================] - 1616s 766ms/sample - loss: 2.2177 - categorical_accuracy: 0.6283 - val_loss: 2.5013 - val_categorical_accuracy: 0.4644\n",
      "Epoch 18/25\n",
      "2080/2109 [============================>.] - ETA: 21s - loss: 2.1268 - categorical_accuracy: 0.6572\n",
      "Epoch 00018: val_categorical_accuracy improved from 0.46437 to 0.64828, saving model to weights\\best_weights.h5\n",
      "2109/2109 [==============================] - 1609s 763ms/sample - loss: 2.1263 - categorical_accuracy: 0.6577 - val_loss: 2.2227 - val_categorical_accuracy: 0.6483\n",
      "Epoch 19/25\n",
      "2080/2109 [============================>.] - ETA: 21s - loss: 2.0821 - categorical_accuracy: 0.6486\n",
      "Epoch 00019: val_categorical_accuracy did not improve from 0.64828\n",
      "2109/2109 [==============================] - 1616s 766ms/sample - loss: 2.0791 - categorical_accuracy: 0.6510 - val_loss: 2.4764 - val_categorical_accuracy: 0.4161\n",
      "Epoch 20/25\n",
      "2080/2109 [============================>.] - ETA: 21s - loss: 1.9663 - categorical_accuracy: 0.6913\n",
      "Epoch 00020: val_categorical_accuracy did not improve from 0.64828\n",
      "2109/2109 [==============================] - 1611s 764ms/sample - loss: 1.9653 - categorical_accuracy: 0.6904 - val_loss: 2.1785 - val_categorical_accuracy: 0.5862\n",
      "Epoch 21/25\n",
      "2080/2109 [============================>.] - ETA: 21s - loss: 1.8609 - categorical_accuracy: 0.7341\n",
      "Epoch 00021: val_categorical_accuracy did not improve from 0.64828\n",
      "2109/2109 [==============================] - 1613s 765ms/sample - loss: 1.8602 - categorical_accuracy: 0.7340 - val_loss: 2.1460 - val_categorical_accuracy: 0.5816\n",
      "Epoch 22/25\n",
      "2080/2109 [============================>.] - ETA: 21s - loss: 1.8350 - categorical_accuracy: 0.7135\n",
      "Epoch 00022: val_categorical_accuracy did not improve from 0.64828\n",
      "2109/2109 [==============================] - 1614s 765ms/sample - loss: 1.8338 - categorical_accuracy: 0.7146 - val_loss: 1.9934 - val_categorical_accuracy: 0.6322\n",
      "Epoch 23/25\n",
      "2080/2109 [============================>.] - ETA: 21s - loss: 1.7946 - categorical_accuracy: 0.7284\n",
      "Epoch 00023: val_categorical_accuracy did not improve from 0.64828\n",
      "\n",
      "Epoch 00023: ReduceLROnPlateau reducing learning rate to 4.0000001899898055e-05.\n",
      "2109/2109 [==============================] - 1603s 760ms/sample - loss: 1.7961 - categorical_accuracy: 0.7283 - val_loss: 2.0704 - val_categorical_accuracy: 0.6138\n",
      "Epoch 24/25\n",
      "2080/2109 [============================>.] - ETA: 21s - loss: 1.6939 - categorical_accuracy: 0.7582\n",
      "Epoch 00024: val_categorical_accuracy improved from 0.64828 to 0.67126, saving model to weights\\best_weights.h5\n",
      "2109/2109 [==============================] - 1605s 761ms/sample - loss: 1.6914 - categorical_accuracy: 0.7596 - val_loss: 2.0260 - val_categorical_accuracy: 0.6713\n",
      "Epoch 25/25\n",
      "2080/2109 [============================>.] - ETA: 21s - loss: 1.6467 - categorical_accuracy: 0.7774\n",
      "Epoch 00025: val_categorical_accuracy improved from 0.67126 to 0.68276, saving model to weights\\best_weights.h5\n",
      "2109/2109 [==============================] - 1601s 759ms/sample - loss: 1.6446 - categorical_accuracy: 0.7790 - val_loss: 1.9847 - val_categorical_accuracy: 0.6828\n"
     ]
    }
   ],
   "source": [
    "history = model.fit(x=train_data, y=train_labels, validation_data=(valid_data, valid_labels), epochs=25, callbacks=callbacks_list, verbose=1)"
   ]
  },
  {
   "cell_type": "code",
   "execution_count": 33,
   "metadata": {},
   "outputs": [],
   "source": [
    "# model.save_weights('./weights/')"
   ]
  },
  {
   "cell_type": "code",
   "execution_count": 36,
   "metadata": {},
   "outputs": [],
   "source": [
    "# !mkdir -p saved_model\n",
    "# model.save(r'Saved Models\\my_model')"
   ]
  },
  {
   "cell_type": "code",
   "execution_count": 62,
   "metadata": {},
   "outputs": [
    {
     "name": "stdout",
     "output_type": "stream",
     "text": [
      "469/469 - 83s - loss: 1.8391 - categorical_accuracy: 0.6652\n",
      "Restored model, accuracy: 66.52%\n"
     ]
    }
   ],
   "source": [
    "loss, acc = model.evaluate(test_data,  test_labels, verbose=2)\n",
    "print(\"Restored model, accuracy: {:5.2f}%\".format(100*acc))\n"
   ]
  },
  {
   "cell_type": "code",
   "execution_count": 40,
   "metadata": {},
   "outputs": [],
   "source": [
    "predictions = model.predict(test_data)"
   ]
  },
  {
   "cell_type": "code",
   "execution_count": 58,
   "metadata": {},
   "outputs": [],
   "source": [
    "def cf(x):\n",
    "    x = np.asarray(x)\n",
    "    y =[]\n",
    "    for i in range(len(x)):\n",
    "        max = np.argmax(x[i])\n",
    "        y.append(max)\n",
    "    return np.asarray(y)\n",
    "    "
   ]
  },
  {
   "cell_type": "code",
   "execution_count": 59,
   "metadata": {},
   "outputs": [],
   "source": [
    "y_test = cf(test_labels)\n",
    "y_pred = cf(predictions)"
   ]
  },
  {
   "cell_type": "code",
   "execution_count": 73,
   "metadata": {},
   "outputs": [
    {
     "data": {
      "text/plain": [
       "array([[146,   3,  10],\n",
       "       [ 57,  66,  34],\n",
       "       [  5,  48, 100]], dtype=int64)"
      ]
     },
     "execution_count": 73,
     "metadata": {},
     "output_type": "execute_result"
    }
   ],
   "source": [
    "conf = metrics.confusion_matrix(y_test, y_pred)\n",
    "conf"
   ]
  },
  {
   "cell_type": "code",
   "execution_count": 77,
   "metadata": {},
   "outputs": [],
   "source": [
    "# #Now the normalize the diagonal entries\n",
    "# cm = conf.astype('float') / conf.sum(axis=1)[:, np.newaxis]\n",
    "# cm.diagonal()"
   ]
  },
  {
   "cell_type": "code",
   "execution_count": 78,
   "metadata": {},
   "outputs": [
    {
     "data": {
      "text/plain": [
       "array([0.91823899, 0.42038217, 0.65359477])"
      ]
     },
     "execution_count": 78,
     "metadata": {},
     "output_type": "execute_result"
    }
   ],
   "source": [
    "metrics.recall_score(y_test, y_pred, average= None)"
   ]
  },
  {
   "cell_type": "code",
   "execution_count": 79,
   "metadata": {},
   "outputs": [
    {
     "data": {
      "text/plain": [
       "array([0.79564033, 0.48175182, 0.67340067])"
      ]
     },
     "execution_count": 79,
     "metadata": {},
     "output_type": "execute_result"
    }
   ],
   "source": [
    "accuracy = metrics.accuracy_score(y_test, y_pred)\n",
    "metrics.f1_score(y_test, y_pred, average = None)\n"
   ]
  },
  {
   "cell_type": "code",
   "execution_count": null,
   "metadata": {},
   "outputs": [],
   "source": []
  }
 ],
 "metadata": {
  "accelerator": "TPU",
  "colab": {
   "authorship_tag": "ABX9TyNCqPG2qO0u0Q/kcqnLRgm+",
   "collapsed_sections": [],
   "machine_shape": "hm",
   "mount_file_id": "1P7bUfRaBTOmjSCgUF8uO1pV_ImUVt41k",
   "name": "baseline.ipynb",
   "provenance": []
  },
  "kernelspec": {
   "display_name": "Python 3",
   "language": "python",
   "name": "python3"
  },
  "language_info": {
   "codemirror_mode": {
    "name": "ipython",
    "version": 3
   },
   "file_extension": ".py",
   "mimetype": "text/x-python",
   "name": "python",
   "nbconvert_exporter": "python",
   "pygments_lexer": "ipython3",
   "version": "3.7.3"
  }
 },
 "nbformat": 4,
 "nbformat_minor": 4
}
