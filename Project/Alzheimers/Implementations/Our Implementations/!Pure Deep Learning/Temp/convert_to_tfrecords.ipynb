{
 "cells": [
  {
   "cell_type": "code",
   "execution_count": 1,
   "metadata": {
    "colab": {
     "base_uri": "https://localhost:8080/",
     "height": 34
    },
    "colab_type": "code",
    "executionInfo": {
     "elapsed": 1234,
     "status": "ok",
     "timestamp": 1588035392181,
     "user": {
      "displayName": "Vignesh Narayanaswamy",
      "photoUrl": "",
      "userId": "06329279500311719057"
     },
     "user_tz": 300
    },
    "id": "ODmAIUIYKjBD",
    "outputId": "d7b1289c-e920-4b1e-b3b2-d52d923794ab"
   },
   "outputs": [],
   "source": [
    "# %cd /content/drive/Shared drives/IML Project/Project"
   ]
  },
  {
   "cell_type": "code",
   "execution_count": 1,
   "metadata": {
    "colab": {},
    "colab_type": "code",
    "id": "YBQWbOeTKsxe"
   },
   "outputs": [],
   "source": [
    "import os\n",
    "import gc\n",
    "import numpy as np\n",
    "import pandas as pd\n",
    "from PIL import Image\n",
    "import tensorflow as tf\n",
    "from progressbar import ProgressBar"
   ]
  },
  {
   "cell_type": "code",
   "execution_count": 2,
   "metadata": {
    "colab": {},
    "colab_type": "code",
    "id": "5G2_uO8BKx-3"
   },
   "outputs": [],
   "source": [
    "data_path = 'data'\n",
    "tf_data_path = 'tf_datasets'"
   ]
  },
  {
   "cell_type": "code",
   "execution_count": 3,
   "metadata": {
    "colab": {},
    "colab_type": "code",
    "id": "TLA-BlPxKzzz"
   },
   "outputs": [],
   "source": [
    "labels = pd.read_csv(os.path.join(data_path, 'adni_demographic_master_kaggle.csv'))"
   ]
  },
  {
   "cell_type": "code",
   "execution_count": 4,
   "metadata": {
    "colab": {},
    "colab_type": "code",
    "id": "Ho-IH5dpK1JX"
   },
   "outputs": [],
   "source": [
    "def _bytes_feature(value):\n",
    "    return tf.train.Feature(bytes_list=tf.train.BytesList(value=[value]))\n",
    "\n",
    "def _float_feature(value):\n",
    "    return tf.train.Feature(float_list=tf.train.FloatList(value=[value]))\n",
    "\n",
    "def _int64_feature(value):\n",
    "    return tf.train.Feature(int64_list=tf.train.Int64List(value=[value]))"
   ]
  },
  {
   "cell_type": "code",
   "execution_count": 5,
   "metadata": {
    "colab": {},
    "colab_type": "code",
    "id": "_iEYmRc4K9da"
   },
   "outputs": [],
   "source": [
    "def create_tfrecords(file_name, img_data, demographics):\n",
    "    pbar = ProgressBar()\n",
    "    assert img_data.shape[0] == demographics.shape[0]\n",
    "    with tf.compat.v1.python_io.TFRecordWriter(os.path.join(tf_data_path, file_name + '.tfrecords')) as writer:\n",
    "        for i in pbar(range(img_data.shape[0])):\n",
    "            img_3d = img_data[i, :, :, :, :]\n",
    "            dem_row = demographics.iloc[i]\n",
    "            channels, height, width = img_3d.shape[0], img_3d.shape[1], img_3d.shape[2]\n",
    "            img_raw = img_3d.tostring()\n",
    "            onehot_label = np.eye(3)[dem_row.diagnosis - 1]\n",
    "            label_raw = onehot_label.tostring()\n",
    "            \n",
    "            example = tf.train.Example(features=tf.train.Features(feature={\n",
    "                'img_channels': _int64_feature(channels),\n",
    "                'img_height': _int64_feature(height),\n",
    "                'img_width': _int64_feature(width),\n",
    "                'img_raw': _bytes_feature(img_raw),\n",
    "                'sex': _bytes_feature(dem_row.sex.encode()),\n",
    "                'age': _float_feature(dem_row.age_at_scan),\n",
    "                'label': _bytes_feature(label_raw)\n",
    "            }))\n",
    "            writer.write(example.SerializeToString())\n",
    "        writer.close()"
   ]
  },
  {
   "cell_type": "code",
   "execution_count": 6,
   "metadata": {
    "colab": {},
    "colab_type": "code",
    "id": "ZyVh8DKrLAzf"
   },
   "outputs": [],
   "source": [
    "def load_datasets(type: str):\n",
    "    if type not in ['train', 'test', 'valid']: raise Exception('Unsupported dataset type')\n",
    "    train_valid_test = 0 if type == 'train' else 1 if type == 'valid' else 2\n",
    "    i = 1\n",
    "    dataset = np.load(os.path.join(data_path, f'img_array_{type}_6k_{i}.npy'))\n",
    "    while True:\n",
    "        try:\n",
    "            i += 1\n",
    "            dataset = np.vstack((dataset, np.load(os.path.join(data_path, f'img_array_{type}_6k_{i}.npy'))))\n",
    "        except FileNotFoundError:\n",
    "            print(f'Loaded all {type} datasets')\n",
    "            break\n",
    "    # dataset = np.expand_dims(dataset, axis=1)\n",
    "    for n in range(dataset.shape[0]):\n",
    "        dataset[n, :, :] = dataset[n, :, :] / np.amax(dataset[n, :, :].flatten())\n",
    "    dataset = np.reshape(dataset, (-1, 62, 96, 96, 1))\n",
    "    return dataset, labels[labels.train_valid_test == train_valid_test]"
   ]
  },
  {
   "cell_type": "code",
   "execution_count": 7,
   "metadata": {
    "colab": {
     "base_uri": "https://localhost:8080/",
     "height": 68
    },
    "colab_type": "code",
    "executionInfo": {
     "elapsed": 53264,
     "status": "ok",
     "timestamp": 1588034363349,
     "user": {
      "displayName": "Vignesh Narayanaswamy",
      "photoUrl": "",
      "userId": "06329279500311719057"
     },
     "user_tz": 300
    },
    "id": "CRxjM5qYLBHS",
    "outputId": "33f014c9-703d-488c-f6f5-98d9ba887f71"
   },
   "outputs": [
    {
     "name": "stdout",
     "output_type": "stream",
     "text": [
      "Loaded all valid datasets\n"
     ]
    },
    {
     "name": "stderr",
     "output_type": "stream",
     "text": [
      "100% |########################################################################|\n"
     ]
    },
    {
     "data": {
      "text/plain": [
       "80"
      ]
     },
     "execution_count": 7,
     "metadata": {},
     "output_type": "execute_result"
    }
   ],
   "source": [
    "valid_data, valid_demo = load_datasets('valid')\n",
    "create_tfrecords('validation', valid_data, valid_demo)\n",
    "del valid_data, valid_demo\n",
    "gc.collect()"
   ]
  },
  {
   "cell_type": "code",
   "execution_count": 8,
   "metadata": {
    "colab": {
     "base_uri": "https://localhost:8080/",
     "height": 102
    },
    "colab_type": "code",
    "executionInfo": {
     "elapsed": 33333,
     "status": "ok",
     "timestamp": 1588034461629,
     "user": {
      "displayName": "Vignesh Narayanaswamy",
      "photoUrl": "",
      "userId": "06329279500311719057"
     },
     "user_tz": 300
    },
    "id": "_lgsro7yLS9t",
    "outputId": "57c61aee-4a4d-4952-8167-4984aba08f2e"
   },
   "outputs": [
    {
     "name": "stdout",
     "output_type": "stream",
     "text": [
      "Loaded all test datasets\n"
     ]
    },
    {
     "name": "stderr",
     "output_type": "stream",
     "text": [
      "C:\\Users\\kalya\\anaconda3\\lib\\site-packages\\ipykernel_launcher.py:15: RuntimeWarning: invalid value encountered in true_divide\n",
      "  from ipykernel import kernelapp as app\n",
      "100% |########################################################################|\n"
     ]
    },
    {
     "data": {
      "text/plain": [
       "60"
      ]
     },
     "execution_count": 8,
     "metadata": {},
     "output_type": "execute_result"
    }
   ],
   "source": [
    "test_data, test_demo = load_datasets('test')\n",
    "create_tfrecords('test', test_data, test_demo)\n",
    "del test_data, test_demo\n",
    "gc.collect()"
   ]
  },
  {
   "cell_type": "code",
   "execution_count": 9,
   "metadata": {
    "colab": {
     "base_uri": "https://localhost:8080/",
     "height": 68
    },
    "colab_type": "code",
    "executionInfo": {
     "elapsed": 317397,
     "status": "ok",
     "timestamp": 1588035712019,
     "user": {
      "displayName": "Vignesh Narayanaswamy",
      "photoUrl": "",
      "userId": "06329279500311719057"
     },
     "user_tz": 300
    },
    "id": "DKg13BQJLTBD",
    "outputId": "c3f7e8aa-3b08-42a1-c5bc-20e8675e6ad5"
   },
   "outputs": [
    {
     "name": "stdout",
     "output_type": "stream",
     "text": [
      "Loaded all train datasets\n"
     ]
    },
    {
     "name": "stderr",
     "output_type": "stream",
     "text": [
      "100% |########################################################################|\n"
     ]
    },
    {
     "data": {
      "text/plain": [
       "196"
      ]
     },
     "execution_count": 9,
     "metadata": {},
     "output_type": "execute_result"
    }
   ],
   "source": [
    "train_data, train_demo = load_datasets('train')\n",
    "create_tfrecords('train', train_data, train_demo)\n",
    "del train_data, train_demo\n",
    "gc.collect()"
   ]
  },
  {
   "cell_type": "code",
   "execution_count": null,
   "metadata": {},
   "outputs": [],
   "source": []
  }
 ],
 "metadata": {
  "colab": {
   "authorship_tag": "ABX9TyPKYjwV2A4UeeqjuwezcAZe",
   "collapsed_sections": [],
   "machine_shape": "hm",
   "mount_file_id": "1VSIj-kWkNny8org3AIwvytQ6WOrs-SKi",
   "name": "convert_to_tfrecords.ipynb",
   "provenance": []
  },
  "kernelspec": {
   "display_name": "Python 3",
   "language": "python",
   "name": "python3"
  },
  "language_info": {
   "codemirror_mode": {
    "name": "ipython",
    "version": 3
   },
   "file_extension": ".py",
   "mimetype": "text/x-python",
   "name": "python",
   "nbconvert_exporter": "python",
   "pygments_lexer": "ipython3",
   "version": "3.7.6"
  }
 },
 "nbformat": 4,
 "nbformat_minor": 4
}
