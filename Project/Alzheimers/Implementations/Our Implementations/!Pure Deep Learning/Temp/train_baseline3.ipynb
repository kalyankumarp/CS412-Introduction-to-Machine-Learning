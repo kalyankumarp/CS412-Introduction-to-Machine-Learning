{
 "cells": [
  {
   "cell_type": "code",
   "execution_count": 10,
   "metadata": {
    "colab": {
     "base_uri": "https://localhost:8080/",
     "height": 34
    },
    "colab_type": "code",
    "executionInfo": {
     "elapsed": 744,
     "status": "ok",
     "timestamp": 1588089121485,
     "user": {
      "displayName": "Vignesh Narayanaswamy",
      "photoUrl": "",
      "userId": "06329279500311719057"
     },
     "user_tz": 300
    },
    "id": "yAFCc8tXL28m",
    "outputId": "7bfdac3b-11a3-4532-fd2a-c738a955e244"
   },
   "outputs": [],
   "source": [
    "# %cd /content/drive/Shared drives/IML Project/Project"
   ]
  },
  {
   "cell_type": "code",
   "execution_count": 20,
   "metadata": {
    "colab": {},
    "colab_type": "code",
    "id": "SPnaqHSHOVBr"
   },
   "outputs": [],
   "source": [
    "import os\n",
    "import numpy as np\n",
    "import pandas as pd\n",
    "import matplotlib.pyplot as plt"
   ]
  },
  {
   "cell_type": "code",
   "execution_count": 21,
   "metadata": {
    "colab": {},
    "colab_type": "code",
    "id": "baWZv48bOWhh"
   },
   "outputs": [],
   "source": [
    "import tensorflow as tf\n",
    "\n",
    "from tensorflow.keras import Sequential\n",
    "\n",
    "from tensorflow.keras.layers import Input\n",
    "from tensorflow.keras.layers import Conv3D\n",
    "from tensorflow.keras.layers import BatchNormalization\n",
    "from tensorflow.keras.layers import LeakyReLU\n",
    "from tensorflow.keras.layers import PReLU\n",
    "from tensorflow.keras.layers import MaxPool3D\n",
    "from tensorflow.keras.layers import Dropout\n",
    "from tensorflow.keras.layers import AveragePooling3D\n",
    "from tensorflow.keras.layers import Dense\n",
    "from tensorflow.keras.layers import Flatten"
   ]
  },
  {
   "cell_type": "code",
   "execution_count": 22,
   "metadata": {
    "colab": {},
    "colab_type": "code",
    "id": "V8uPxl4FPsFR"
   },
   "outputs": [],
   "source": [
    "data_path = 'tf_datasets'\n",
    "batch_size = 32"
   ]
  },
  {
   "cell_type": "code",
   "execution_count": 23,
   "metadata": {
    "colab": {},
    "colab_type": "code",
    "id": "ToNzkhKzOYcn"
   },
   "outputs": [],
   "source": [
    "def decode(serialized_example):\n",
    "    \"\"\"\n",
    "    Parses an image and label from the given `serialized_example`.\n",
    "    It is used as a map function for `dataset.map`\n",
    "    \"\"\"\n",
    "\n",
    "    features = tf.compat.v1.parse_single_example(\n",
    "        serialized_example,\n",
    "        features={\n",
    "            'img_channels': tf.compat.v1.FixedLenFeature([], tf.int64),\n",
    "            'img_height': tf.compat.v1.FixedLenFeature([], tf.int64),\n",
    "            'img_width': tf.compat.v1.FixedLenFeature([], tf.int64),\n",
    "            'img_raw': tf.compat.v1.FixedLenFeature([], tf.string),\n",
    "            'sex': tf.compat.v1.FixedLenFeature([], tf.string),\n",
    "            'age': tf.compat.v1.FixedLenFeature([], tf.float32),\n",
    "            'label': tf.compat.v1.FixedLenFeature([], tf.string),\n",
    "        })\n",
    "    \n",
    "    \n",
    "    \n",
    "    height = tf.cast(features['img_height'], tf.int32)\n",
    "    width = tf.cast(features['img_width'], tf.int32)\n",
    "    channels = tf.cast(features['img_channels'], tf.int32)\n",
    "    image = tf.compat.v1.decode_raw(features['img_raw'], tf.float64)\n",
    "    image = tf.reshape(image, (62, 96, 96, 1))\n",
    "    label = tf.compat.v1.decode_raw(features['label'], tf.float64)\n",
    "    sex = tf.cast(features['sex'], tf.string)\n",
    "    age = tf.cast(features['age'], tf.float32)\n",
    "    return image, label"
   ]
  },
  {
   "cell_type": "code",
   "execution_count": 24,
   "metadata": {
    "colab": {},
    "colab_type": "code",
    "id": "R8APRYquPY13"
   },
   "outputs": [],
   "source": [
    "train_dataset = tf.data.TFRecordDataset(os.path.join(data_path, 'train.tfrecords')).map(decode).batch(batch_size)\n",
    "val_dataset = tf.data.TFRecordDataset(os.path.join(data_path, 'validation.tfrecords')).map(decode).batch(batch_size)\n",
    "test_dataset = tf.data.TFRecordDataset(os.path.join(data_path, 'test.tfrecords')).map(decode).batch(batch_size)"
   ]
  },
  {
   "cell_type": "code",
   "execution_count": 16,
   "metadata": {
    "colab": {},
    "colab_type": "code",
    "id": "5LqxqEJqTqsH"
   },
   "outputs": [],
   "source": [
    "def create_model():\n",
    "    kernel_regularizer = tf.keras.regularizers.l2(0.001)\n",
    "    he_normal = tf.keras.initializers.he_normal(seed=0)\n",
    "    lecun_normal = tf.keras.initializers.lecun_normal(seed=0)\n",
    "\n",
    "    input_3d = (62, 96, 96, 1)\n",
    "    pool_3d = (2, 2, 2)\n",
    "\n",
    "    model = Sequential()\n",
    "    \n",
    "    model.add(tf.keras.layers.InputLayer(input_shape=input_3d))\n",
    "    model.add(Conv3D(filters=8,\n",
    "                     kernel_size=3,\n",
    "                     kernel_regularizer=kernel_regularizer,\n",
    "                     kernel_initializer=he_normal))\n",
    "    model.add(BatchNormalization())\n",
    "    model.add(PReLU())\n",
    "    model.add(MaxPool3D(pool_size=pool_3d, name='pool1'))\n",
    "\n",
    "    model.add(Conv3D(filters=8,\n",
    "                     kernel_size=3,\n",
    "                     kernel_regularizer=kernel_regularizer,\n",
    "                     kernel_initializer=he_normal))\n",
    "    model.add(BatchNormalization())\n",
    "    model.add(PReLU())\n",
    "    model.add(MaxPool3D(pool_size=pool_3d, name='pool2'))\n",
    "\n",
    "    model.add(Conv3D(filters=8,\n",
    "                     kernel_size=3,\n",
    "                     kernel_regularizer=kernel_regularizer,\n",
    "                     kernel_initializer=he_normal))\n",
    "    model.add(BatchNormalization())\n",
    "    model.add(PReLU())\n",
    "    model.add(MaxPool3D(pool_size=pool_3d, name='pool3'))\n",
    "\n",
    "    model.add(Flatten())\n",
    "    model.add(Dense(1024, name='dense1', kernel_regularizer=kernel_regularizer, kernel_initializer=he_normal))\n",
    "    model.add(LeakyReLU())\n",
    "    model.add(Dropout(0.5, name='dropout1'))\n",
    "\n",
    "    model.add(Dense(512, activation='relu', name='dense2', kernel_regularizer=kernel_regularizer, kernel_initializer=he_normal))\n",
    "    model.add(LeakyReLU())\n",
    "    model.add(Dropout(0.5, name='dropout2'))\n",
    "\n",
    "    model.add(Dense(3, activation='softmax', name='softmax', kernel_initializer=lecun_normal))\n",
    "\n",
    "    model.compile(loss='categorical_crossentropy',\n",
    "                  optimizer=tf.keras.optimizers.Adam(1e-5),\n",
    "                  metrics=[tf.keras.metrics.CategoricalAccuracy()])\n",
    "\n",
    "    return model"
   ]
  },
  {
   "cell_type": "code",
   "execution_count": 25,
   "metadata": {
    "colab": {},
    "colab_type": "code",
    "id": "uMRTv_gaTsqv"
   },
   "outputs": [],
   "source": [
    "reducelr_callback = tf.keras.callbacks.ReduceLROnPlateau(monitor='val_categorical_accuracy',\n",
    "                                                         factor=0.2,\n",
    "                                                         patience=5,\n",
    "                                                         min_delta=0.01,\n",
    "                                                         verbose=1)\n",
    "checkpoint_callback = tf.keras.callbacks.ModelCheckpoint(os.path.join('checkpoints', 'cp.ckpt'),\n",
    "                                                         monitor='val_categorical_accuracy',\n",
    "                                                         verbose=1,\n",
    "                                                         save_best_only=True,\n",
    "                                                         mode='max')\n",
    "\n",
    "callbacks_list = [checkpoint_callback, reducelr_callback]"
   ]
  },
  {
   "cell_type": "code",
   "execution_count": 26,
   "metadata": {
    "colab": {
     "base_uri": "https://localhost:8080/",
     "height": 445
    },
    "colab_type": "code",
    "executionInfo": {
     "elapsed": 681,
     "status": "error",
     "timestamp": 1588088921417,
     "user": {
      "displayName": "Vignesh Narayanaswamy",
      "photoUrl": "",
      "userId": "06329279500311719057"
     },
     "user_tz": 300
    },
    "id": "3e6N86fuTuoS",
    "outputId": "b1b2fa67-64e4-42d4-cffd-b190026c00a1"
   },
   "outputs": [
    {
     "name": "stdout",
     "output_type": "stream",
     "text": [
      "Model: \"sequential_2\"\n",
      "_________________________________________________________________\n",
      "Layer (type)                 Output Shape              Param #   \n",
      "=================================================================\n",
      "conv3d_6 (Conv3D)            (None, 60, 94, 94, 8)     224       \n",
      "_________________________________________________________________\n",
      "batch_normalization_6 (Batch (None, 60, 94, 94, 8)     32        \n",
      "_________________________________________________________________\n",
      "p_re_lu_6 (PReLU)            (None, 60, 94, 94, 8)     4241280   \n",
      "_________________________________________________________________\n",
      "pool1 (MaxPooling3D)         (None, 30, 47, 47, 8)     0         \n",
      "_________________________________________________________________\n",
      "conv3d_7 (Conv3D)            (None, 28, 45, 45, 8)     1736      \n",
      "_________________________________________________________________\n",
      "batch_normalization_7 (Batch (None, 28, 45, 45, 8)     32        \n",
      "_________________________________________________________________\n",
      "p_re_lu_7 (PReLU)            (None, 28, 45, 45, 8)     453600    \n",
      "_________________________________________________________________\n",
      "pool2 (MaxPooling3D)         (None, 14, 22, 22, 8)     0         \n",
      "_________________________________________________________________\n",
      "conv3d_8 (Conv3D)            (None, 12, 20, 20, 8)     1736      \n",
      "_________________________________________________________________\n",
      "batch_normalization_8 (Batch (None, 12, 20, 20, 8)     32        \n",
      "_________________________________________________________________\n",
      "p_re_lu_8 (PReLU)            (None, 12, 20, 20, 8)     38400     \n",
      "_________________________________________________________________\n",
      "pool3 (MaxPooling3D)         (None, 6, 10, 10, 8)      0         \n",
      "_________________________________________________________________\n",
      "flatten_2 (Flatten)          (None, 4800)              0         \n",
      "_________________________________________________________________\n",
      "dense1 (Dense)               (None, 1024)              4916224   \n",
      "_________________________________________________________________\n",
      "leaky_re_lu_4 (LeakyReLU)    (None, 1024)              0         \n",
      "_________________________________________________________________\n",
      "dropout1 (Dropout)           (None, 1024)              0         \n",
      "_________________________________________________________________\n",
      "dense2 (Dense)               (None, 512)               524800    \n",
      "_________________________________________________________________\n",
      "leaky_re_lu_5 (LeakyReLU)    (None, 512)               0         \n",
      "_________________________________________________________________\n",
      "dropout2 (Dropout)           (None, 512)               0         \n",
      "_________________________________________________________________\n",
      "softmax (Dense)              (None, 3)                 1539      \n",
      "=================================================================\n",
      "Total params: 10,179,635\n",
      "Trainable params: 10,179,587\n",
      "Non-trainable params: 48\n",
      "_________________________________________________________________\n"
     ]
    }
   ],
   "source": [
    "model = create_model()\n",
    "model.summary()"
   ]
  },
  {
   "cell_type": "code",
   "execution_count": null,
   "metadata": {
    "colab": {
     "base_uri": "https://localhost:8080/",
     "height": 493
    },
    "colab_type": "code",
    "executionInfo": {
     "elapsed": 9594,
     "status": "error",
     "timestamp": 1588085077931,
     "user": {
      "displayName": "Vignesh Narayanaswamy",
      "photoUrl": "",
      "userId": "06329279500311719057"
     },
     "user_tz": 300
    },
    "id": "jqr8RL0STvR3",
    "outputId": "6730d24c-efe5-43cd-9ad7-e91830aee177"
   },
   "outputs": [
    {
     "name": "stdout",
     "output_type": "stream",
     "text": [
      "Epoch 1/25\n",
      "      2/Unknown - 101s 51s/step - loss: 6.1921 - categorical_accuracy: 0.3281"
     ]
    }
   ],
   "source": [
    "history = model.fit(train_dataset, validation_data=val_dataset, epochs=25, callbacks=callbacks_list, verbose=1)"
   ]
  },
  {
   "cell_type": "code",
   "execution_count": null,
   "metadata": {},
   "outputs": [],
   "source": []
  }
 ],
 "metadata": {
  "accelerator": "GPU",
  "colab": {
   "authorship_tag": "ABX9TyNtyxsBJhJHIpf8212FBa2L",
   "collapsed_sections": [],
   "mount_file_id": "1PuKSFTZbL-DuSK00h00DWX7Nzizj8ihI",
   "name": "train_baseline.ipynb",
   "provenance": []
  },
  "kernelspec": {
   "display_name": "Python 3",
   "language": "python",
   "name": "python3"
  },
  "language_info": {
   "codemirror_mode": {
    "name": "ipython",
    "version": 3
   },
   "file_extension": ".py",
   "mimetype": "text/x-python",
   "name": "python",
   "nbconvert_exporter": "python",
   "pygments_lexer": "ipython3",
   "version": "3.7.6"
  }
 },
 "nbformat": 4,
 "nbformat_minor": 1
}
